{
 "cells": [
  {
   "cell_type": "code",
   "execution_count": 1,
   "metadata": {},
   "outputs": [
    {
     "name": "stdout",
     "output_type": "stream",
     "text": [
      "Project Root: /Users/tccuong1404/Documents/Project/housing-market-dashboard\n"
     ]
    }
   ],
   "source": [
    "import pandas as pd\n",
    "from loguru import logger\n",
    "from hmd.core import app_config\n",
    "from hmd.crawlers.detail_page import DetailPageCrawler"
   ]
  },
  {
   "cell_type": "code",
   "execution_count": 2,
   "metadata": {},
   "outputs": [],
   "source": [
    "list_post = pd.read_csv(app_config.DATA_PATH.joinpath(\"list.csv\"), index_col=0)\n",
    "list_post = list_post.sample(n=1)\n",
    "crawler = DetailPageCrawler()"
   ]
  },
  {
   "cell_type": "code",
   "execution_count": 3,
   "metadata": {},
   "outputs": [],
   "source": [
    "result = []\n",
    "for idx, row in list_post.iterrows():\n",
    "    try:\n",
    "        post_id = row[\"post_id\"]\n",
    "        post_url = row[\"post_url\"]\n",
    "        detail = crawler.crawl(post_url)\n",
    "        result.append((post_id, post_url, detail))\n",
    "    except Exception as e:\n",
    "        logger.warning(f\"Failed to crawl {post_url}\")"
   ]
  },
  {
   "cell_type": "code",
   "execution_count": 4,
   "metadata": {},
   "outputs": [
    {
     "name": "stdout",
     "output_type": "stream",
     "text": [
      "Post URL: https://www.nhatot.com/mua-ban-nha-dat-quan-binh-tan-tp-ho-chi-minh/118119257.htm\n",
      "Post Title: Gần nguyễn sơn _ 28m2 nở hậu 4m x 7m 2 tầng đúc _đường 3gác 2tỷ nhỉnh\n",
      "Post Address: Đường Kênh Nước Đen, Phường Bình Hưng Hoà A, Quận Bình Tân, Tp Hồ Chí Minh\n",
      "Post Last Update: Cập nhật 3 giờ trước\n",
      "Post Desc: ✅️ kết cấu    : 1 trệt 1 lầu ban công 2pn 2wc nhà cực kỳ thoáng mát nội thất xịn\n",
      "\n",
      "✅️ vị trí       : gần nguyễn sơn kênh nước đen _ giáp tân phú _ khu dân trí thân thiện gần công viên\n",
      "\n",
      "✅️ liên hệ    : hùng nhà phố. H62102\n",
      "Post Params: {'Giá/m²': ' 71,43 triệu/m²', 'Số phòng ngủ': ' 2 phòng', 'Số phòng vệ sinh': ' 2 phòng', 'Tổng số tầng': ' 2', 'Giấy tờ pháp lý': ' Đã có sổ', 'Loại hình nhà ở': ' Nhà ngõ, hẻm', 'Tình trạng nội thất': ' Nội thất cao cấp', 'Chiều ngang': ' 4 m'}\n"
     ]
    }
   ],
   "source": [
    "id, url, x = result[0]\n",
    "print(\"Post URL:\", url)\n",
    "print(\"Post Title:\", x.post_title)\n",
    "print(\"Post Address:\", x.address)\n",
    "print(\"Post Last Update:\", x.last_update)\n",
    "print(\"Post Desc:\", x.post_desc)\n",
    "print(\"Post Params:\", x.params)"
   ]
  },
  {
   "cell_type": "code",
   "execution_count": null,
   "metadata": {},
   "outputs": [],
   "source": []
  }
 ],
 "metadata": {
  "kernelspec": {
   "display_name": "housing-market-dashboard-pvUQCj6N-py3.12",
   "language": "python",
   "name": "python3"
  },
  "language_info": {
   "codemirror_mode": {
    "name": "ipython",
    "version": 3
   },
   "file_extension": ".py",
   "mimetype": "text/x-python",
   "name": "python",
   "nbconvert_exporter": "python",
   "pygments_lexer": "ipython3",
   "version": "3.12.6"
  }
 },
 "nbformat": 4,
 "nbformat_minor": 2
}
