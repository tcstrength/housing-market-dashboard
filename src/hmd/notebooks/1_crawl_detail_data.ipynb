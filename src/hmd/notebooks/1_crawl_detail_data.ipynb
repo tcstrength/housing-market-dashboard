{
 "cells": [
  {
   "cell_type": "code",
   "execution_count": 1,
   "metadata": {},
   "outputs": [
    {
     "name": "stdout",
     "output_type": "stream",
     "text": [
      "Project Root: /Users/tccuong1404/Documents/Project/housing-market-dashboard\n"
     ]
    }
   ],
   "source": [
    "import pandas as pd\n",
    "from loguru import logger\n",
    "from hmd.core import app_config\n",
    "from hmd.crawlers.detail_page import DetailPageCrawler"
   ]
  },
  {
   "cell_type": "markdown",
   "metadata": {},
   "source": [
    "### Test Thuê Nhà"
   ]
  },
  {
   "cell_type": "code",
   "execution_count": 2,
   "metadata": {},
   "outputs": [],
   "source": [
    "list_post = pd.read_csv(app_config.DATA_PATH.joinpath(\"list_thue.csv\"), index_col=0)\n",
    "list_post = list_post.sample(n=1)\n",
    "crawler = DetailPageCrawler()"
   ]
  },
  {
   "cell_type": "code",
   "execution_count": 3,
   "metadata": {},
   "outputs": [],
   "source": [
    "result = []\n",
    "for idx, row in list_post.iterrows():\n",
    "    try:\n",
    "        post_id = row[\"post_id\"]\n",
    "        post_url = row[\"post_url\"]\n",
    "        detail = crawler.crawl(post_url)\n",
    "        result.append((post_id, post_url, detail))\n",
    "    except Exception as e:\n",
    "        logger.warning(f\"Failed to crawl {post_url}\")\n",
    "        raise e"
   ]
  },
  {
   "cell_type": "code",
   "execution_count": 4,
   "metadata": {},
   "outputs": [
    {
     "name": "stdout",
     "output_type": "stream",
     "text": [
      "Post URL: https://www.nhatot.com/mua-ban-dat-thanh-pho-da-lat-lam-dong/120473814.htm\n",
      "Post Title: 22 TỶ BÁN 11000 M² (2tr/m2)TẠI PHƯỜNG 10, ĐÀ LẠT\n",
      "Post Address: Sở Lăng, Phường 10, Thành phố Đà Lạt, Lâm Đồng\n",
      "Price: 22000.0\n",
      "Post Last Update: 2024-10-25 23:14:49.856149\n",
      "Tags: ['Đất nông nghiệp']\n",
      "Post Desc: 💥22 TỶ BÁN 11000M2 TẠI PHƯỜNG 10, ĐÀ LẠT – VỊ TRÍ TIỀM NĂNG GẦN NHIỀU ĐIỂM THU HÚT DU KHÁCH\n",
      "\n",
      "Gia đình cần giải quyết công việc bán 11000m², tại phường 10, thành phố Đà Lạt, với 300 m² đất thổ cư đã được cấp sổ hồng. Vị trí đất rất thuận lợi để phát triển các dự án nghỉ dưỡng hoặc làm nơi sinh sống trong một không gian trong lành rừng Thông, suối bao quanh \n",
      "🍂Thông tin chi tiết:\n",
      "Diện tích tổng: 11000m² (có 300m2 thổ cư)\n",
      "Pháp lý: sổ hồng riêng\n",
      "Vị trí: Phường 10, Đà Lạt – Gần trung tâm, thuận tiện di chuyển đến các địa điểm thiết yếu như trường học, cửa hàng, bệnh viện...\n",
      "Lợi thế vị trí – Gần nhiều điểm tham quan nổi tiếng:\n",
      "🍁Điểm nổi bật của lô đất:\n",
      "Địa hình đẹp, thoáng mát: Đất bằng phẳng, thích hợp xây dựng nhà ở, biệt thự hoặc các dự án dịch vụ nghỉ dưỡng, khu du lịch sinh thái...\n",
      "Pháp lý rõ ràng: Sổ hồng riêng, thủ tục nhanh chóng, an toàn cho người mua.\n",
      "Tiềm năng phát triển: Đất nằm gần các khu du lịch lớn, hứa hẹn giá trị tăng trưởng cao trong tương lai.\n",
      "Giá bán: Liên hệ để biết thêm thông tin.\n",
      "🌟Nếu bạn đang tìm kiếm một nơi lý tưởng để đầu tư hoặc an cư tại thành phố du lịch Đà Lạt, đây là cơ hội không nên bỏ qua. Vị trí đắc địa gần nhiều điểm du lịch nổi tiếng, cộng thêm pháp lý rõ ràng, mang đến giá trị bền vững cho chủ sở hữu.\n",
      "GIÁ: 22 TỶ (2TR/M2)\n",
      "Liên hệ ngay để nhận thông tin chi tiết và xem đất:\n",
      "\n",
      "SĐT: *** cty BĐS Sương Nguyệt Ánh Đà Lạt\n",
      "❤️Uy tín - Trách nhiệm - Giá chủ❤️\n",
      "Post Params: {'price_m2': 2.0, 'property_legal_document': 'Đã có sổ', 'land_type': 'Đất nông nghiệp', 'pty_characteristics': 1.0, 'size': 11000.0, 'size_unit': 'm²'}\n"
     ]
    }
   ],
   "source": [
    "id, url, x = result[0]\n",
    "print(\"Post URL:\", url)\n",
    "print(\"Post Title:\", x.post_title)\n",
    "print(\"Post Address:\", x.address)\n",
    "print(\"Price:\", x.price_in_mil)\n",
    "print(\"Post Last Update:\", x.last_update)\n",
    "print(\"Tags:\", x.tags)\n",
    "print(\"Post Desc:\", x.post_desc)\n",
    "print(\"Post Params:\", x.params)"
   ]
  },
  {
   "cell_type": "markdown",
   "metadata": {},
   "source": [
    "### Test Mua Bán Nhà"
   ]
  },
  {
   "cell_type": "code",
   "execution_count": 5,
   "metadata": {},
   "outputs": [],
   "source": [
    "list_post = pd.read_csv(app_config.DATA_PATH.joinpath(\"list_mua_ban.csv\"), index_col=0)\n",
    "list_post = list_post.sample(n=1)\n",
    "crawler = DetailPageCrawler()"
   ]
  },
  {
   "cell_type": "code",
   "execution_count": 6,
   "metadata": {},
   "outputs": [],
   "source": [
    "result = []\n",
    "for idx, row in list_post.iterrows():\n",
    "    try:\n",
    "        post_id = row[\"post_id\"]\n",
    "        post_url = row[\"post_url\"]\n",
    "        detail = crawler.crawl(post_url)\n",
    "        result.append((post_id, post_url, detail))\n",
    "    except Exception as e:\n",
    "        logger.warning(f\"Failed to crawl {post_url}\")\n",
    "        print(e)"
   ]
  },
  {
   "cell_type": "code",
   "execution_count": 7,
   "metadata": {},
   "outputs": [
    {
     "name": "stdout",
     "output_type": "stream",
     "text": [
      "Post URL: https://www.nhatot.com/mua-ban-nha-dat-thanh-pho-thu-duc-tp-ho-chi-minh/120357459.htm#px=SR-stickyad-[PO-4][PL-top]\n",
      "Post Title: NHÀ MỚI 1 TRỆT 1 LẦU HẺM XE BA GÁC ĐƯỜNG SỐ 475 PHƯỚC LONG B,Q9\n",
      "Post Address: Đường Số 475, Phường Phước Long B (Quận 9 cũ), Thành phố Thủ Đức, Tp Hồ Chí Minh\n",
      "Post Last Update: 2024-11-02 23:14:53.756970\n",
      "Post Desc: NHANH THÌ CÒN A CHỊ KHÁCH ƠI :B :B :B \n",
      "- NHÀ 1 TRỆT 1 LẦU 2PN 2 WC BAN CÔNG THOANG MÁT NHÀ MỚI TINH CHI VÀO LÀ Ở THÔI Ạ.\n",
      "- NHÀ NGAY TRUNG TÂM PHƯỚC LONG B,CÁNH ĐƯƠNG 475 CHỈ 80m,TIỆN ÍCH BÁN KÍNH 500m KO THIẾU GÌ.\n",
      "- DT: 80m SƯ DỤNG,CÔNG NHẬN 35M.\n",
      "- GIÁ BÁN: 3,750ty  CÒN THƯƠNG LƯỢNG KHÁCH THIỆN CHÍ.\n",
      "- A CHỊ XEM NHÀ LIÊN HỆ: ***.BẠN THÂN CHỦ NHÀ\n",
      "Post Params: {'price_m2': 107.14, 'rooms': 2.0, 'toilets': 2.0, 'floors': 2.0, 'property_legal_document': 'Đã có sổ', 'house_type': 'Nhà ngõ, hẻm'}\n"
     ]
    }
   ],
   "source": [
    "id, url, x = result[0]\n",
    "print(\"Post URL:\", url)\n",
    "print(\"Post Title:\", x.post_title)\n",
    "print(\"Post Address:\", x.address)\n",
    "print(\"Post Last Update:\", x.last_update)\n",
    "print(\"Post Desc:\", x.post_desc)\n",
    "print(\"Post Params:\", x.params)"
   ]
  }
 ],
 "metadata": {
  "kernelspec": {
   "display_name": "housing-market-dashboard-pvUQCj6N-py3.12",
   "language": "python",
   "name": "python3"
  },
  "language_info": {
   "codemirror_mode": {
    "name": "ipython",
    "version": 3
   },
   "file_extension": ".py",
   "mimetype": "text/x-python",
   "name": "python",
   "nbconvert_exporter": "python",
   "pygments_lexer": "ipython3",
   "version": "3.12.6"
  }
 },
 "nbformat": 4,
 "nbformat_minor": 2
}
