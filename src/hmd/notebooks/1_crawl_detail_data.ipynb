{
 "cells": [
  {
   "cell_type": "code",
   "execution_count": 1,
   "metadata": {},
   "outputs": [
    {
     "name": "stdout",
     "output_type": "stream",
     "text": [
      "Project Root: /Users/phuocbui/Desktop/Master/BigData/housing-market-dashboard\n"
     ]
    }
   ],
   "source": [
    "import pandas as pd\n",
    "from loguru import logger\n",
    "from hmd.core import app_config\n",
    "from hmd.crawlers.detail_page import DetailPageCrawler"
   ]
  },
  {
   "cell_type": "markdown",
   "metadata": {},
   "source": [
    "### Test Thuê Nhà"
   ]
  },
  {
   "cell_type": "code",
   "execution_count": 2,
   "metadata": {},
   "outputs": [],
   "source": [
    "list_post = pd.read_csv(app_config.DATA_PATH.joinpath(\"list_thue.csv\"), index_col=0)\n",
    "list_post = list_post.sample(n=1)\n",
    "crawler = DetailPageCrawler()"
   ]
  },
  {
   "cell_type": "code",
   "execution_count": 3,
   "metadata": {},
   "outputs": [],
   "source": [
    "result = []\n",
    "for idx, row in list_post.iterrows():\n",
    "    try:\n",
    "        post_id = row[\"post_id\"]\n",
    "        post_url = row[\"post_url\"]\n",
    "        detail = crawler.crawl(post_url)\n",
    "        result.append((post_id, post_url, detail))\n",
    "    except Exception as e:\n",
    "        logger.warning(f\"Failed to crawl {post_url}\")\n",
    "        print(e)"
   ]
  },
  {
   "cell_type": "code",
   "execution_count": 4,
   "metadata": {},
   "outputs": [
    {
     "name": "stdout",
     "output_type": "stream",
     "text": [
      "Post URL: https://www.nhatot.com/mua-ban-nha-dat-quan-tan-binh-tp-ho-chi-minh/120472916.htm\n",
      "Post Title: Hẻm 6m vuông vức 4PN 30m2 chỉ nhỉnh 3 đồng\n",
      "Post Address: Đường Ni Sư Huỳnh Liên, Phường 10, Quận Tân Bình, Tp Hồ Chí Minh\n",
      "Post Last Update: 2024-10-25 21:08:32.534772\n",
      "Tags: ['4 PN', 'Nhà ngõ, hẻm']\n",
      "Post Desc: Hẻm 6m vuông vức 4PN 30m2 chỉ nhỉnh 3 đồng\n",
      "⚡️ DT: 3m x 10m Công Nhận 28m2.\n",
      "🕋 1 trệt 1 lầu 2PN 2WC.\n",
      "🕋 Gần chợ Trần Văn Quang, xung quanh tiện ích đầy đủ như trường học, siêu thị,... \n",
      "🕋 Đi qua quận 1 chỉ 5', cách 50m oto tránh.\n",
      "💯 Khu toàn nhà lầu, dân trí cao.\n",
      "💯 Sổ nở hậu tài lộc. Công chứng ngay.\n",
      "💰Giá : 3,4 tỷ thương lượng khách thiện chí.\n",
      "Post Params: {'price_m2': 110.0, 'rooms': 4.0, 'toilets': 2.0, 'floors': 2.0, 'property_legal_document': 'Đã có sổ', 'house_type': 'Nhà ngõ, hẻm'}\n"
     ]
    }
   ],
   "source": [
    "id, url, x = result[0]\n",
    "print(\"Post URL:\", url)\n",
    "print(\"Post Title:\", x.post_title)\n",
    "print(\"Post Address:\", x.address)\n",
    "print(\"Post Last Update:\", x.last_update)\n",
    "print(\"Tags:\", x.tags)\n",
    "print(\"Post Desc:\", x.post_desc)\n",
    "print(\"Post Params:\", x.params)"
   ]
  },
  {
   "cell_type": "markdown",
   "metadata": {},
   "source": [
    "### Test Mua Bán Nhà"
   ]
  },
  {
   "cell_type": "code",
   "execution_count": 5,
   "metadata": {},
   "outputs": [],
   "source": [
    "list_post = pd.read_csv(app_config.DATA_PATH.joinpath(\"list_mua_ban.csv\"), index_col=0)\n",
    "list_post = list_post.sample(n=1)\n",
    "crawler = DetailPageCrawler()"
   ]
  },
  {
   "cell_type": "code",
   "execution_count": 6,
   "metadata": {},
   "outputs": [],
   "source": [
    "result = []\n",
    "for idx, row in list_post.iterrows():\n",
    "    try:\n",
    "        post_id = row[\"post_id\"]\n",
    "        post_url = row[\"post_url\"]\n",
    "        detail = crawler.crawl(post_url)\n",
    "        result.append((post_id, post_url, detail))\n",
    "    except Exception as e:\n",
    "        logger.warning(f\"Failed to crawl {post_url}\")\n",
    "        print(e)"
   ]
  },
  {
   "cell_type": "code",
   "execution_count": 7,
   "metadata": {},
   "outputs": [
    {
     "name": "stdout",
     "output_type": "stream",
     "text": [
      "Post URL: https://www.nhatot.com/mua-ban-nha-dat-quan-tan-phu-tp-ho-chi-minh/119380816.htm\n",
      "Post Title: Nhà 2 tầng, DT 4x13, đường 4m, nhỉnh 5 tỷ, Phú Thọ Hòa, Tân Phú\n",
      "Post Address: Đường Phú Thọ Hoà, Phường Phú Thọ Hòa, Quận Tân Phú, Tp Hồ Chí Minh\n",
      "Post Last Update: 2024-10-25 21:08:49.997655\n",
      "Post Desc: Mô tả:\n",
      "+ Kết cấu 1 trệt 1 lầu nhà đúc chắc chắn(xây mới được 4 tấm) Hiện tại gồm: 2PN, 2WC. \n",
      "+ Vị trí đẹp, gần Tân Bình, sát Ủy ban Quận, gần Lũy Bán Bích, Vườn Lài , tiện ích xung quanh không thiếu gì. \n",
      "+ Sổ hồng riêng, vuông vức, không quy hoạch, không lỗi phong thủy, xây mới được 4 tấm, công nhận đủ.\n",
      "Post Params: {'price_m2': 109.23, 'rooms': 2.0, 'toilets': 2.0, 'floors': 2.0, 'property_legal_document': 'Đã có sổ', 'house_type': 'Nhà ngõ, hẻm'}\n"
     ]
    }
   ],
   "source": [
    "id, url, x = result[0]\n",
    "print(\"Post URL:\", url)\n",
    "print(\"Post Title:\", x.post_title)\n",
    "print(\"Post Address:\", x.address)\n",
    "print(\"Post Last Update:\", x.last_update)\n",
    "print(\"Post Desc:\", x.post_desc)\n",
    "print(\"Post Params:\", x.params)"
   ]
  }
 ],
 "metadata": {
  "kernelspec": {
   "display_name": "housing-market-dashboard-pvUQCj6N-py3.12",
   "language": "python",
   "name": "python3"
  },
  "language_info": {
   "codemirror_mode": {
    "name": "ipython",
    "version": 3
   },
   "file_extension": ".py",
   "mimetype": "text/x-python",
   "name": "python",
   "nbconvert_exporter": "python",
   "pygments_lexer": "ipython3",
   "version": "3.12.7"
  }
 },
 "nbformat": 4,
 "nbformat_minor": 2
}
