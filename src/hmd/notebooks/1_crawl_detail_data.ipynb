{
 "cells": [
  {
   "cell_type": "code",
   "execution_count": 1,
   "metadata": {},
   "outputs": [
    {
     "name": "stdout",
     "output_type": "stream",
     "text": [
      "Project Root: /Users/tccuong1404/Documents/Project/housing-market-dashboard\n"
     ]
    }
   ],
   "source": [
    "import pandas as pd\n",
    "from loguru import logger\n",
    "from hmd.core import app_config\n",
    "from hmd.crawlers.detail_page import DetailPageCrawler"
   ]
  },
  {
   "cell_type": "markdown",
   "metadata": {},
   "source": [
    "### Test Thuê Nhà"
   ]
  },
  {
   "cell_type": "code",
   "execution_count": 2,
   "metadata": {},
   "outputs": [],
   "source": [
    "list_post = pd.read_csv(app_config.DATA_PATH.joinpath(\"list_thue.csv\"), index_col=0)\n",
    "list_post = list_post.sample(n=1)\n",
    "crawler = DetailPageCrawler()"
   ]
  },
  {
   "cell_type": "code",
   "execution_count": 3,
   "metadata": {},
   "outputs": [],
   "source": [
    "result = []\n",
    "for idx, row in list_post.iterrows():\n",
    "    try:\n",
    "        post_id = row[\"post_id\"]\n",
    "        post_url = row[\"post_url\"]\n",
    "        detail = crawler.crawl(post_url)\n",
    "        result.append((post_id, post_url, detail))\n",
    "    except Exception as e:\n",
    "        logger.warning(f\"Failed to crawl {post_url}\")"
   ]
  },
  {
   "cell_type": "code",
   "execution_count": 4,
   "metadata": {},
   "outputs": [
    {
     "name": "stdout",
     "output_type": "stream",
     "text": [
      "Post URL: https://www.nhatot.com/mua-ban-can-ho-chung-cu-quan-hai-chau-da-nang/120474595.htm\n",
      "Post Title: Chính chủ để lại căn hộ SAM Towers view vịnh, sông Hàn chỉ 3,9 tỷ\n",
      "Post Address: Đường Như Nguyệt, Phường Thuận Phước, Quận Hải Châu, Đà Nẵng\n",
      "Post Last Update: Cập nhật 2 giờ trước\n",
      "Post Desc: Căn Hộ 1 Phòng Ngủ Tại SAM Tower Đà Nẵng\n",
      "__________________________________\n",
      "Địa chỉ: Như Nguyệt, Hải Châu, Đà Nẵng\n",
      "Diện tích: 54 m2\n",
      "Nội thất cơ bản\n",
      "Giá bán: 3,9 tỷ\n",
      "View căn hộ hướng Vịnh Biển, núi sơn Trà\n",
      "______________________\n",
      "Hỗ trợ vay tối đa 85%, ân hạn gốc 24 tháng, ân hạn lãi 12 tháng từ CĐT \n",
      "\n",
      "Đặt lịch hẹn ngay hôm nay với Em Vi để nhận được ưu đãi.\n",
      "Post Params: {'Tình trạng bất động sản': ' Đã bàn giao', 'Giá/m²': ' 72,22 triệu/m²', 'Số phòng ngủ': ' 1 phòng', 'Số phòng vệ sinh': ' 2 phòng', 'Hướng ban công': ' Tây Bắc', 'Loại hình căn hộ': ' Chung cư', 'Giấy tờ pháp lý': ' Sổ hồng riêng', 'Tình trạng nội thất': ' Nội thất cao cấp'}\n"
     ]
    }
   ],
   "source": [
    "id, url, x = result[0]\n",
    "print(\"Post URL:\", url)\n",
    "print(\"Post Title:\", x.post_title)\n",
    "print(\"Post Address:\", x.address)\n",
    "print(\"Post Last Update:\", x.last_update)\n",
    "print(\"Post Desc:\", x.post_desc)\n",
    "print(\"Post Params:\", x.params)"
   ]
  },
  {
   "cell_type": "markdown",
   "metadata": {},
   "source": [
    "### Test Mua Bán Nhà"
   ]
  },
  {
   "cell_type": "code",
   "execution_count": 5,
   "metadata": {},
   "outputs": [],
   "source": [
    "list_post = pd.read_csv(app_config.DATA_PATH.joinpath(\"list_mua_ban.csv\"), index_col=0)\n",
    "list_post = list_post.sample(n=1)\n",
    "crawler = DetailPageCrawler()"
   ]
  },
  {
   "cell_type": "code",
   "execution_count": 6,
   "metadata": {},
   "outputs": [],
   "source": [
    "result = []\n",
    "for idx, row in list_post.iterrows():\n",
    "    try:\n",
    "        post_id = row[\"post_id\"]\n",
    "        post_url = row[\"post_url\"]\n",
    "        detail = crawler.crawl(post_url)\n",
    "        result.append((post_id, post_url, detail))\n",
    "    except Exception as e:\n",
    "        logger.warning(f\"Failed to crawl {post_url}\")"
   ]
  },
  {
   "cell_type": "code",
   "execution_count": 7,
   "metadata": {},
   "outputs": [
    {
     "name": "stdout",
     "output_type": "stream",
     "text": [
      "Post URL: https://www.nhatot.com/mua-ban-nha-dat-quan-12-tp-ho-chi-minh/120448004.htm\n",
      "Post Title: 6.75 TỶ: 4.1X27, 111M2, NHÀ MT, TRƯỜNG CHINH, XE TẢI NGỦ TRONG NHÀ\n",
      "Post Address: Đường Trường Chinh, Phường Đông Hưng Thuận, Quận 12, Tp Hồ Chí Minh\n",
      "Post Last Update: Cập nhật 1 giờ trước\n",
      "Post Desc: CHỦ RẤT THIỆN CHÍ BÁN NHÀ MẶT TIỀN, TRƯỜNG CHINH :\n",
      "💎 Nhà cấp 4, 4.1x27m, 111m2 công nhận, thích hợp khách mua xây mới\n",
      "💎 Đường xe tải ngủ nhà, khu bàn cờ đẹp\n",
      "💎 Gần cầu Tham Lương, thuận tiện di chuyển\n",
      "💎 Giấy tờ pháp lý chuẩn, không quy hoạch \n",
      "📞Lh/Zalo 👉 *** - Gặp Phương\n",
      "Post Params: {'Giá/m²': ' 60,81 triệu/m²', 'Số phòng ngủ': ' 2 phòng', 'Số phòng vệ sinh': ' 3 phòng', 'Tổng số tầng': ' 2', 'Giấy tờ pháp lý': ' Đã có sổ', 'Loại hình nhà ở': ' Nhà mặt phố, mặt tiền', 'Tình trạng nội thất': ' Nội thất đầy đủ', 'Chiều ngang': ' 4.1 m'}\n"
     ]
    }
   ],
   "source": [
    "id, url, x = result[0]\n",
    "print(\"Post URL:\", url)\n",
    "print(\"Post Title:\", x.post_title)\n",
    "print(\"Post Address:\", x.address)\n",
    "print(\"Post Last Update:\", x.last_update)\n",
    "print(\"Post Desc:\", x.post_desc)\n",
    "print(\"Post Params:\", x.params)"
   ]
  }
 ],
 "metadata": {
  "kernelspec": {
   "display_name": "housing-market-dashboard-pvUQCj6N-py3.12",
   "language": "python",
   "name": "python3"
  },
  "language_info": {
   "codemirror_mode": {
    "name": "ipython",
    "version": 3
   },
   "file_extension": ".py",
   "mimetype": "text/x-python",
   "name": "python",
   "nbconvert_exporter": "python",
   "pygments_lexer": "ipython3",
   "version": "3.12.6"
  }
 },
 "nbformat": 4,
 "nbformat_minor": 2
}
