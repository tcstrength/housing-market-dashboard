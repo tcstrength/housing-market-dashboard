{
 "cells": [
  {
   "cell_type": "code",
   "execution_count": 3,
   "metadata": {},
   "outputs": [],
   "source": [
    "import pandas as pd\n",
    "from loguru import logger\n",
    "from hmd.core import app_config\n",
    "from hmd.crawlers.detail_page import DetailPageCrawler"
   ]
  },
  {
   "cell_type": "markdown",
   "metadata": {},
   "source": [
    "### Test Thuê Nhà"
   ]
  },
  {
   "cell_type": "code",
   "execution_count": 4,
   "metadata": {},
   "outputs": [],
   "source": [
    "list_post = pd.read_csv(app_config.DATA_PATH.joinpath(\"list_thue.csv\"), index_col=0)\n",
    "list_post = list_post.sample(n=1)\n",
    "crawler = DetailPageCrawler()"
   ]
  },
  {
   "cell_type": "code",
   "execution_count": 5,
   "metadata": {},
   "outputs": [],
   "source": [
    "result = []\n",
    "for idx, row in list_post.iterrows():\n",
    "    try:\n",
    "        post_id = row[\"post_id\"]\n",
    "        post_url = row[\"post_url\"]\n",
    "        detail = crawler.crawl(post_url)\n",
    "        result.append((post_id, post_url, detail))\n",
    "    except Exception as e:\n",
    "        logger.warning(f\"Failed to crawl {post_url}\")\n",
    "        print(e)"
   ]
  },
  {
   "cell_type": "code",
   "execution_count": 6,
   "metadata": {},
   "outputs": [
    {
     "name": "stdout",
     "output_type": "stream",
     "text": [
      "Post URL: https://www.nhatot.com/mua-ban-nha-dat-quan-tan-phu-tp-ho-chi-minh/120032267.htm\n",
      "Post Title: Bán nhà Hẻm xe hơi 5.8×11m Chỉ 5 tỷ TL\n",
      "Post Address: Huỳnh Thiện Lộc, Phường Hòa Thạnh, Quận Tân Phú, Tp Hồ Chí Minh\n",
      "Post Last Update: 2024-11-05 12:08:13.517954\n",
      "Tags: ['4 PN', 'Nhà ngõ, hẻm']\n",
      "Post Desc: Bán nhà hẻm xe hơi  Huỳnh Thiện Lộc - Tân Phú\n",
      "+ Dt:  5,8× 11m \n",
      "Nhà 1 Trệt  1 lầu CN 57m2\n",
      "Giá chỉ  5  tỷ TL\n",
      "Liên hệ Sđt đăng tin\n",
      "Post Params: {'price_m2': 86.21, 'rooms': 4.0, 'floors': 2.0, 'property_legal_document': 'Đã có sổ', 'house_type': 'Nhà ngõ, hẻm', 'width': 5.0}\n"
     ]
    }
   ],
   "source": [
    "id, url, x = result[0]\n",
    "print(\"Post URL:\", url)\n",
    "print(\"Post Title:\", x.post_title)\n",
    "print(\"Post Address:\", x.address)\n",
    "print(\"Post Last Update:\", x.last_update)\n",
    "print(\"Tags:\", x.tags)\n",
    "print(\"Post Desc:\", x.post_desc)\n",
    "print(\"Post Params:\", x.params)"
   ]
  },
  {
   "cell_type": "markdown",
   "metadata": {},
   "source": [
    "### Test Mua Bán Nhà"
   ]
  },
  {
   "cell_type": "code",
   "execution_count": 7,
   "metadata": {},
   "outputs": [],
   "source": [
    "list_post = pd.read_csv(app_config.DATA_PATH.joinpath(\"list_mua_ban.csv\"), index_col=0)\n",
    "list_post = list_post.sample(n=1)\n",
    "crawler = DetailPageCrawler()"
   ]
  },
  {
   "cell_type": "code",
   "execution_count": 8,
   "metadata": {},
   "outputs": [],
   "source": [
    "result = []\n",
    "for idx, row in list_post.iterrows():\n",
    "    try:\n",
    "        post_id = row[\"post_id\"]\n",
    "        post_url = row[\"post_url\"]\n",
    "        detail = crawler.crawl(post_url)\n",
    "        result.append((post_id, post_url, detail))\n",
    "    except Exception as e:\n",
    "        logger.warning(f\"Failed to crawl {post_url}\")\n",
    "        print(e)"
   ]
  },
  {
   "cell_type": "code",
   "execution_count": 9,
   "metadata": {},
   "outputs": [
    {
     "name": "stdout",
     "output_type": "stream",
     "text": [
      "Post URL: https://www.nhatot.com/mua-ban-nha-dat-quan-1-tp-ho-chi-minh/120273327.htm#px=SR-special_display_ad-[PO-4][PL-default]\n",
      "Post Title: 3lầu,mới 100% khu VIP Nguyễn Văn Nguyễn thông ra Hoàng Sa,Tân Định,Q.1\n",
      "Post Address: Đường Nguyễn Văn Nguyễn, Phường Tân Định, Quận 1, Tp Hồ Chí Minh\n",
      "Post Last Update: 2024-11-05 17:08:14.201387\n",
      "Post Desc: * Bán nhà phố 3 lầu đẹp lung linh, mới 100% khu VIP Nguyễn Văn Nguyễn thông ra Hoàng Sa, Phường Tân Định, Quận 1.\n",
      "\n",
      "* Vị trí : Nhà tọa lạc vị trí đẹp, hẻm thông ra Hoàng Sa thuận tiện giao thông ra trung tâm thành phố và các quận lân cận.\n",
      "\n",
      "* Tiện ích : Xung quanh đầy đủ tiện ích : Chợ Tân Định, Nhà Thờ Cổ Tân Định, trường học Hai Bà Trưng, trung tâm thương mại, siêu thị, ngân hàng, trung tâm thể thao, bệnh viện...\n",
      "\n",
      "* Công năng nhà : Thích hợp kinh doanh Spa, Shop online, home stay, trụ sở công ty, cho thuê, ở...\n",
      "\n",
      "* Nhà do KTS thiết kế tuyệt đẹp, chất lượng công trình tốt.\n",
      "\n",
      "* DTKV: 3,8m x 13,5m = 51.3m2, DTSD: 148m2, cấu trúc: Trệt, 2 lầu, sân thượng\n",
      "* Phòng khách tuyệt đẹp, khu bếp thông thoáng (có sân sau), 04 phòng ngủ + 5WC, sân thượng trước và sau.\n",
      "\n",
      "* Nhà hướng chính Đông\n",
      "* Sổ hồng chính chủ\n",
      "* Giá 8,9 tỷ (TL)\n",
      "Post Params: {'price_m2': 173.49, 'rooms': 4.0, 'direction': 'Đông', 'toilets': 5.0, 'floors': 4.0, 'property_legal_document': 'Đã có sổ'}\n"
     ]
    }
   ],
   "source": [
    "id, url, x = result[0]\n",
    "print(\"Post URL:\", url)\n",
    "print(\"Post Title:\", x.post_title)\n",
    "print(\"Post Address:\", x.address)\n",
    "print(\"Post Last Update:\", x.last_update)\n",
    "print(\"Post Desc:\", x.post_desc)\n",
    "print(\"Post Params:\", x.params)"
   ]
  }
 ],
 "metadata": {
  "kernelspec": {
   "display_name": "housing-market-dashboard-pvUQCj6N-py3.12",
   "language": "python",
   "name": "python3"
  },
  "language_info": {
   "codemirror_mode": {
    "name": "ipython",
    "version": 3
   },
   "file_extension": ".py",
   "mimetype": "text/x-python",
   "name": "python",
   "nbconvert_exporter": "python",
   "pygments_lexer": "ipython3",
   "version": "3.12.6"
  }
 },
 "nbformat": 4,
 "nbformat_minor": 2
}
