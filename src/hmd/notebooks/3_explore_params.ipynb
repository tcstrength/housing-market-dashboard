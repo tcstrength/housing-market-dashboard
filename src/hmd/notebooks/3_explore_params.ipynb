{
 "cells": [
  {
   "cell_type": "code",
   "execution_count": 8,
   "metadata": {},
   "outputs": [],
   "source": [
    "import pandas as pd\n",
    "import json\n",
    "from hmd.core import app_config"
   ]
  },
  {
   "cell_type": "code",
   "execution_count": 3,
   "metadata": {},
   "outputs": [],
   "source": [
    "path = app_config.PROJECT_ROOT.joinpath(\"data/posts_detail.csv\")"
   ]
  },
  {
   "cell_type": "code",
   "execution_count": null,
   "metadata": {},
   "outputs": [],
   "source": [
    "params = pd.read_csv(path)[\"params\"]\n",
    "params = params.apply(lambda x: x.replace(\"'\", '\"'))\n",
    "params = [json.loads(x) for x in params]"
   ]
  },
  {
   "cell_type": "code",
   "execution_count": null,
   "metadata": {},
   "outputs": [],
   "source": [
    "unique_k = []\n",
    "for item in params:\n",
    "    for k in item:\n",
    "        unique_k.append(k)\n",
    "unique_k = set(unique_k)"
   ]
  },
  {
   "cell_type": "code",
   "execution_count": 18,
   "metadata": {},
   "outputs": [
    {
     "name": "stdout",
     "output_type": "stream",
     "text": [
      "size: Mapped[str] = mapped_column(String(255))\n",
      "floornumber: Mapped[str] = mapped_column(String(255))\n",
      "property_status: Mapped[str] = mapped_column(String(255))\n",
      "floors: Mapped[str] = mapped_column(String(255))\n",
      "land_type: Mapped[str] = mapped_column(String(255))\n",
      "house_type: Mapped[str] = mapped_column(String(255))\n",
      "property_legal_document: Mapped[str] = mapped_column(String(255))\n",
      "length: Mapped[str] = mapped_column(String(255))\n",
      "rooms: Mapped[str] = mapped_column(String(255))\n",
      "width: Mapped[str] = mapped_column(String(255))\n",
      "price_m2: Mapped[str] = mapped_column(String(255))\n",
      "balconydirection: Mapped[str] = mapped_column(String(255))\n",
      "furnishing_sell: Mapped[str] = mapped_column(String(255))\n",
      "block: Mapped[str] = mapped_column(String(255))\n",
      "pty_characteristics: Mapped[str] = mapped_column(String(255))\n",
      "apartment_type: Mapped[str] = mapped_column(String(255))\n",
      "living_size: Mapped[str] = mapped_column(String(255))\n",
      "unitnumber: Mapped[str] = mapped_column(String(255))\n",
      "toilets: Mapped[str] = mapped_column(String(255))\n",
      "size_unit: Mapped[str] = mapped_column(String(255))\n",
      "direction: Mapped[str] = mapped_column(String(255))\n"
     ]
    }
   ],
   "source": [
    "for i in unique_k:\n",
    "    print(f\"{i}: Mapped[str] = mapped_column(String(255))\")"
   ]
  },
  {
   "cell_type": "code",
   "execution_count": 21,
   "metadata": {},
   "outputs": [
    {
     "name": "stdout",
     "output_type": "stream",
     "text": [
      "size_unit m²\n",
      "size_unit m²\n",
      "size_unit m²\n",
      "size_unit m²\n"
     ]
    }
   ],
   "source": [
    "unique_k = []\n",
    "for item in params:\n",
    "    for k in item:\n",
    "        if k == \"size_unit\":\n",
    "            print(k, item[k])"
   ]
  },
  {
   "cell_type": "code",
   "execution_count": null,
   "metadata": {},
   "outputs": [],
   "source": []
  }
 ],
 "metadata": {
  "kernelspec": {
   "display_name": "housing-market-dashboard-pvUQCj6N-py3.12",
   "language": "python",
   "name": "python3"
  },
  "language_info": {
   "codemirror_mode": {
    "name": "ipython",
    "version": 3
   },
   "file_extension": ".py",
   "mimetype": "text/x-python",
   "name": "python",
   "nbconvert_exporter": "python",
   "pygments_lexer": "ipython3",
   "version": "3.12.6"
  }
 },
 "nbformat": 4,
 "nbformat_minor": 2
}
