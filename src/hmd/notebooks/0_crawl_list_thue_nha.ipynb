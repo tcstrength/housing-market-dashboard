{
 "cells": [
  {
   "cell_type": "code",
   "execution_count": 16,
   "metadata": {},
   "outputs": [
    {
     "name": "stdout",
     "output_type": "stream",
     "text": [
      "Project Root: /Users/tccuong1404/Documents/Project/housing-market-dashboard\n"
     ]
    }
   ],
   "source": [
    "import pandas as pd\n",
    "from loguru import logger\n",
    "from hmd.core import app_config\n",
    "from hmd.crawlers.list_page import ListPageCrawler"
   ]
  },
  {
   "cell_type": "code",
   "execution_count": 8,
   "metadata": {},
   "outputs": [],
   "source": [
    "crawler = ListPageCrawler()\n",
    "page_from = 1\n",
    "page_to = 100"
   ]
  },
  {
   "cell_type": "code",
   "execution_count": 9,
   "metadata": {},
   "outputs": [
    {
     "name": "stderr",
     "output_type": "stream",
     "text": [
      "\u001b[32m2024-10-25 20:59:04.697\u001b[0m | \u001b[1mINFO    \u001b[0m | \u001b[36m__main__\u001b[0m:\u001b[36m<module>\u001b[0m:\u001b[36m5\u001b[0m - \u001b[1mCrawl data from https://www.nhatot.com/https://www.nhatot.com/thue-bat-dong-san?page=1\u001b[0m\n",
      "\u001b[32m2024-10-25 20:59:06.715\u001b[0m | \u001b[1mINFO    \u001b[0m | \u001b[36m__main__\u001b[0m:\u001b[36m<module>\u001b[0m:\u001b[36m5\u001b[0m - \u001b[1mCrawl data from https://www.nhatot.com/https://www.nhatot.com/thue-bat-dong-san?page=2\u001b[0m\n",
      "\u001b[32m2024-10-25 20:59:08.642\u001b[0m | \u001b[1mINFO    \u001b[0m | \u001b[36m__main__\u001b[0m:\u001b[36m<module>\u001b[0m:\u001b[36m5\u001b[0m - \u001b[1mCrawl data from https://www.nhatot.com/https://www.nhatot.com/thue-bat-dong-san?page=3\u001b[0m\n",
      "\u001b[32m2024-10-25 20:59:11.412\u001b[0m | \u001b[1mINFO    \u001b[0m | \u001b[36m__main__\u001b[0m:\u001b[36m<module>\u001b[0m:\u001b[36m5\u001b[0m - \u001b[1mCrawl data from https://www.nhatot.com/https://www.nhatot.com/thue-bat-dong-san?page=4\u001b[0m\n",
      "\u001b[32m2024-10-25 20:59:12.733\u001b[0m | \u001b[1mINFO    \u001b[0m | \u001b[36m__main__\u001b[0m:\u001b[36m<module>\u001b[0m:\u001b[36m5\u001b[0m - \u001b[1mCrawl data from https://www.nhatot.com/https://www.nhatot.com/thue-bat-dong-san?page=5\u001b[0m\n",
      "\u001b[32m2024-10-25 20:59:15.650\u001b[0m | \u001b[1mINFO    \u001b[0m | \u001b[36m__main__\u001b[0m:\u001b[36m<module>\u001b[0m:\u001b[36m5\u001b[0m - \u001b[1mCrawl data from https://www.nhatot.com/https://www.nhatot.com/thue-bat-dong-san?page=6\u001b[0m\n",
      "\u001b[32m2024-10-25 20:59:16.767\u001b[0m | \u001b[1mINFO    \u001b[0m | \u001b[36m__main__\u001b[0m:\u001b[36m<module>\u001b[0m:\u001b[36m5\u001b[0m - \u001b[1mCrawl data from https://www.nhatot.com/https://www.nhatot.com/thue-bat-dong-san?page=7\u001b[0m\n",
      "\u001b[32m2024-10-25 20:59:18.572\u001b[0m | \u001b[1mINFO    \u001b[0m | \u001b[36m__main__\u001b[0m:\u001b[36m<module>\u001b[0m:\u001b[36m5\u001b[0m - \u001b[1mCrawl data from https://www.nhatot.com/https://www.nhatot.com/thue-bat-dong-san?page=8\u001b[0m\n",
      "\u001b[32m2024-10-25 20:59:21.550\u001b[0m | \u001b[1mINFO    \u001b[0m | \u001b[36m__main__\u001b[0m:\u001b[36m<module>\u001b[0m:\u001b[36m5\u001b[0m - \u001b[1mCrawl data from https://www.nhatot.com/https://www.nhatot.com/thue-bat-dong-san?page=9\u001b[0m\n",
      "\u001b[32m2024-10-25 20:59:23.235\u001b[0m | \u001b[1mINFO    \u001b[0m | \u001b[36m__main__\u001b[0m:\u001b[36m<module>\u001b[0m:\u001b[36m5\u001b[0m - \u001b[1mCrawl data from https://www.nhatot.com/https://www.nhatot.com/thue-bat-dong-san?page=10\u001b[0m\n",
      "\u001b[32m2024-10-25 20:59:25.080\u001b[0m | \u001b[1mINFO    \u001b[0m | \u001b[36m__main__\u001b[0m:\u001b[36m<module>\u001b[0m:\u001b[36m5\u001b[0m - \u001b[1mCrawl data from https://www.nhatot.com/https://www.nhatot.com/thue-bat-dong-san?page=11\u001b[0m\n",
      "\u001b[32m2024-10-25 20:59:26.471\u001b[0m | \u001b[1mINFO    \u001b[0m | \u001b[36m__main__\u001b[0m:\u001b[36m<module>\u001b[0m:\u001b[36m5\u001b[0m - \u001b[1mCrawl data from https://www.nhatot.com/https://www.nhatot.com/thue-bat-dong-san?page=12\u001b[0m\n",
      "\u001b[32m2024-10-25 20:59:28.940\u001b[0m | \u001b[1mINFO    \u001b[0m | \u001b[36m__main__\u001b[0m:\u001b[36m<module>\u001b[0m:\u001b[36m5\u001b[0m - \u001b[1mCrawl data from https://www.nhatot.com/https://www.nhatot.com/thue-bat-dong-san?page=13\u001b[0m\n",
      "\u001b[32m2024-10-25 20:59:30.457\u001b[0m | \u001b[1mINFO    \u001b[0m | \u001b[36m__main__\u001b[0m:\u001b[36m<module>\u001b[0m:\u001b[36m5\u001b[0m - \u001b[1mCrawl data from https://www.nhatot.com/https://www.nhatot.com/thue-bat-dong-san?page=14\u001b[0m\n",
      "\u001b[32m2024-10-25 20:59:32.356\u001b[0m | \u001b[1mINFO    \u001b[0m | \u001b[36m__main__\u001b[0m:\u001b[36m<module>\u001b[0m:\u001b[36m5\u001b[0m - \u001b[1mCrawl data from https://www.nhatot.com/https://www.nhatot.com/thue-bat-dong-san?page=15\u001b[0m\n",
      "\u001b[32m2024-10-25 20:59:34.315\u001b[0m | \u001b[1mINFO    \u001b[0m | \u001b[36m__main__\u001b[0m:\u001b[36m<module>\u001b[0m:\u001b[36m5\u001b[0m - \u001b[1mCrawl data from https://www.nhatot.com/https://www.nhatot.com/thue-bat-dong-san?page=16\u001b[0m\n",
      "\u001b[32m2024-10-25 20:59:38.483\u001b[0m | \u001b[1mINFO    \u001b[0m | \u001b[36m__main__\u001b[0m:\u001b[36m<module>\u001b[0m:\u001b[36m5\u001b[0m - \u001b[1mCrawl data from https://www.nhatot.com/https://www.nhatot.com/thue-bat-dong-san?page=17\u001b[0m\n",
      "\u001b[32m2024-10-25 20:59:43.334\u001b[0m | \u001b[1mINFO    \u001b[0m | \u001b[36m__main__\u001b[0m:\u001b[36m<module>\u001b[0m:\u001b[36m5\u001b[0m - \u001b[1mCrawl data from https://www.nhatot.com/https://www.nhatot.com/thue-bat-dong-san?page=18\u001b[0m\n",
      "\u001b[32m2024-10-25 20:59:44.689\u001b[0m | \u001b[1mINFO    \u001b[0m | \u001b[36m__main__\u001b[0m:\u001b[36m<module>\u001b[0m:\u001b[36m5\u001b[0m - \u001b[1mCrawl data from https://www.nhatot.com/https://www.nhatot.com/thue-bat-dong-san?page=19\u001b[0m\n",
      "\u001b[32m2024-10-25 20:59:46.327\u001b[0m | \u001b[1mINFO    \u001b[0m | \u001b[36m__main__\u001b[0m:\u001b[36m<module>\u001b[0m:\u001b[36m5\u001b[0m - \u001b[1mCrawl data from https://www.nhatot.com/https://www.nhatot.com/thue-bat-dong-san?page=20\u001b[0m\n",
      "\u001b[32m2024-10-25 20:59:48.926\u001b[0m | \u001b[1mINFO    \u001b[0m | \u001b[36m__main__\u001b[0m:\u001b[36m<module>\u001b[0m:\u001b[36m5\u001b[0m - \u001b[1mCrawl data from https://www.nhatot.com/https://www.nhatot.com/thue-bat-dong-san?page=21\u001b[0m\n",
      "\u001b[32m2024-10-25 20:59:52.264\u001b[0m | \u001b[1mINFO    \u001b[0m | \u001b[36m__main__\u001b[0m:\u001b[36m<module>\u001b[0m:\u001b[36m5\u001b[0m - \u001b[1mCrawl data from https://www.nhatot.com/https://www.nhatot.com/thue-bat-dong-san?page=22\u001b[0m\n",
      "\u001b[32m2024-10-25 20:59:55.856\u001b[0m | \u001b[1mINFO    \u001b[0m | \u001b[36m__main__\u001b[0m:\u001b[36m<module>\u001b[0m:\u001b[36m5\u001b[0m - \u001b[1mCrawl data from https://www.nhatot.com/https://www.nhatot.com/thue-bat-dong-san?page=23\u001b[0m\n",
      "\u001b[32m2024-10-25 20:59:57.118\u001b[0m | \u001b[1mINFO    \u001b[0m | \u001b[36m__main__\u001b[0m:\u001b[36m<module>\u001b[0m:\u001b[36m5\u001b[0m - \u001b[1mCrawl data from https://www.nhatot.com/https://www.nhatot.com/thue-bat-dong-san?page=24\u001b[0m\n",
      "\u001b[32m2024-10-25 21:00:01.911\u001b[0m | \u001b[1mINFO    \u001b[0m | \u001b[36m__main__\u001b[0m:\u001b[36m<module>\u001b[0m:\u001b[36m5\u001b[0m - \u001b[1mCrawl data from https://www.nhatot.com/https://www.nhatot.com/thue-bat-dong-san?page=25\u001b[0m\n",
      "\u001b[32m2024-10-25 21:00:03.798\u001b[0m | \u001b[1mINFO    \u001b[0m | \u001b[36m__main__\u001b[0m:\u001b[36m<module>\u001b[0m:\u001b[36m5\u001b[0m - \u001b[1mCrawl data from https://www.nhatot.com/https://www.nhatot.com/thue-bat-dong-san?page=26\u001b[0m\n",
      "\u001b[32m2024-10-25 21:00:05.478\u001b[0m | \u001b[1mINFO    \u001b[0m | \u001b[36m__main__\u001b[0m:\u001b[36m<module>\u001b[0m:\u001b[36m5\u001b[0m - \u001b[1mCrawl data from https://www.nhatot.com/https://www.nhatot.com/thue-bat-dong-san?page=27\u001b[0m\n",
      "\u001b[32m2024-10-25 21:00:08.046\u001b[0m | \u001b[1mINFO    \u001b[0m | \u001b[36m__main__\u001b[0m:\u001b[36m<module>\u001b[0m:\u001b[36m5\u001b[0m - \u001b[1mCrawl data from https://www.nhatot.com/https://www.nhatot.com/thue-bat-dong-san?page=28\u001b[0m\n",
      "\u001b[32m2024-10-25 21:00:09.827\u001b[0m | \u001b[1mINFO    \u001b[0m | \u001b[36m__main__\u001b[0m:\u001b[36m<module>\u001b[0m:\u001b[36m5\u001b[0m - \u001b[1mCrawl data from https://www.nhatot.com/https://www.nhatot.com/thue-bat-dong-san?page=29\u001b[0m\n",
      "\u001b[32m2024-10-25 21:00:12.907\u001b[0m | \u001b[1mINFO    \u001b[0m | \u001b[36m__main__\u001b[0m:\u001b[36m<module>\u001b[0m:\u001b[36m5\u001b[0m - \u001b[1mCrawl data from https://www.nhatot.com/https://www.nhatot.com/thue-bat-dong-san?page=30\u001b[0m\n",
      "\u001b[32m2024-10-25 21:00:16.470\u001b[0m | \u001b[1mINFO    \u001b[0m | \u001b[36m__main__\u001b[0m:\u001b[36m<module>\u001b[0m:\u001b[36m5\u001b[0m - \u001b[1mCrawl data from https://www.nhatot.com/https://www.nhatot.com/thue-bat-dong-san?page=31\u001b[0m\n",
      "\u001b[32m2024-10-25 21:00:18.145\u001b[0m | \u001b[1mINFO    \u001b[0m | \u001b[36m__main__\u001b[0m:\u001b[36m<module>\u001b[0m:\u001b[36m5\u001b[0m - \u001b[1mCrawl data from https://www.nhatot.com/https://www.nhatot.com/thue-bat-dong-san?page=32\u001b[0m\n",
      "\u001b[32m2024-10-25 21:00:20.779\u001b[0m | \u001b[1mINFO    \u001b[0m | \u001b[36m__main__\u001b[0m:\u001b[36m<module>\u001b[0m:\u001b[36m5\u001b[0m - \u001b[1mCrawl data from https://www.nhatot.com/https://www.nhatot.com/thue-bat-dong-san?page=33\u001b[0m\n",
      "\u001b[32m2024-10-25 21:00:24.146\u001b[0m | \u001b[1mINFO    \u001b[0m | \u001b[36m__main__\u001b[0m:\u001b[36m<module>\u001b[0m:\u001b[36m5\u001b[0m - \u001b[1mCrawl data from https://www.nhatot.com/https://www.nhatot.com/thue-bat-dong-san?page=34\u001b[0m\n",
      "\u001b[32m2024-10-25 21:00:26.868\u001b[0m | \u001b[1mINFO    \u001b[0m | \u001b[36m__main__\u001b[0m:\u001b[36m<module>\u001b[0m:\u001b[36m5\u001b[0m - \u001b[1mCrawl data from https://www.nhatot.com/https://www.nhatot.com/thue-bat-dong-san?page=35\u001b[0m\n",
      "\u001b[32m2024-10-25 21:00:29.544\u001b[0m | \u001b[1mINFO    \u001b[0m | \u001b[36m__main__\u001b[0m:\u001b[36m<module>\u001b[0m:\u001b[36m5\u001b[0m - \u001b[1mCrawl data from https://www.nhatot.com/https://www.nhatot.com/thue-bat-dong-san?page=36\u001b[0m\n",
      "\u001b[32m2024-10-25 21:00:31.250\u001b[0m | \u001b[1mINFO    \u001b[0m | \u001b[36m__main__\u001b[0m:\u001b[36m<module>\u001b[0m:\u001b[36m5\u001b[0m - \u001b[1mCrawl data from https://www.nhatot.com/https://www.nhatot.com/thue-bat-dong-san?page=37\u001b[0m\n",
      "\u001b[32m2024-10-25 21:00:33.243\u001b[0m | \u001b[1mINFO    \u001b[0m | \u001b[36m__main__\u001b[0m:\u001b[36m<module>\u001b[0m:\u001b[36m5\u001b[0m - \u001b[1mCrawl data from https://www.nhatot.com/https://www.nhatot.com/thue-bat-dong-san?page=38\u001b[0m\n",
      "\u001b[32m2024-10-25 21:00:35.270\u001b[0m | \u001b[1mINFO    \u001b[0m | \u001b[36m__main__\u001b[0m:\u001b[36m<module>\u001b[0m:\u001b[36m5\u001b[0m - \u001b[1mCrawl data from https://www.nhatot.com/https://www.nhatot.com/thue-bat-dong-san?page=39\u001b[0m\n",
      "\u001b[32m2024-10-25 21:00:39.705\u001b[0m | \u001b[1mINFO    \u001b[0m | \u001b[36m__main__\u001b[0m:\u001b[36m<module>\u001b[0m:\u001b[36m5\u001b[0m - \u001b[1mCrawl data from https://www.nhatot.com/https://www.nhatot.com/thue-bat-dong-san?page=40\u001b[0m\n",
      "\u001b[32m2024-10-25 21:00:42.304\u001b[0m | \u001b[1mINFO    \u001b[0m | \u001b[36m__main__\u001b[0m:\u001b[36m<module>\u001b[0m:\u001b[36m5\u001b[0m - \u001b[1mCrawl data from https://www.nhatot.com/https://www.nhatot.com/thue-bat-dong-san?page=41\u001b[0m\n",
      "\u001b[32m2024-10-25 21:00:44.912\u001b[0m | \u001b[1mINFO    \u001b[0m | \u001b[36m__main__\u001b[0m:\u001b[36m<module>\u001b[0m:\u001b[36m5\u001b[0m - \u001b[1mCrawl data from https://www.nhatot.com/https://www.nhatot.com/thue-bat-dong-san?page=42\u001b[0m\n",
      "\u001b[32m2024-10-25 21:00:47.966\u001b[0m | \u001b[1mINFO    \u001b[0m | \u001b[36m__main__\u001b[0m:\u001b[36m<module>\u001b[0m:\u001b[36m5\u001b[0m - \u001b[1mCrawl data from https://www.nhatot.com/https://www.nhatot.com/thue-bat-dong-san?page=43\u001b[0m\n",
      "\u001b[32m2024-10-25 21:00:50.177\u001b[0m | \u001b[1mINFO    \u001b[0m | \u001b[36m__main__\u001b[0m:\u001b[36m<module>\u001b[0m:\u001b[36m5\u001b[0m - \u001b[1mCrawl data from https://www.nhatot.com/https://www.nhatot.com/thue-bat-dong-san?page=44\u001b[0m\n",
      "\u001b[32m2024-10-25 21:00:52.210\u001b[0m | \u001b[1mINFO    \u001b[0m | \u001b[36m__main__\u001b[0m:\u001b[36m<module>\u001b[0m:\u001b[36m5\u001b[0m - \u001b[1mCrawl data from https://www.nhatot.com/https://www.nhatot.com/thue-bat-dong-san?page=45\u001b[0m\n",
      "\u001b[32m2024-10-25 21:00:55.735\u001b[0m | \u001b[1mINFO    \u001b[0m | \u001b[36m__main__\u001b[0m:\u001b[36m<module>\u001b[0m:\u001b[36m5\u001b[0m - \u001b[1mCrawl data from https://www.nhatot.com/https://www.nhatot.com/thue-bat-dong-san?page=46\u001b[0m\n",
      "\u001b[32m2024-10-25 21:01:04.956\u001b[0m | \u001b[1mINFO    \u001b[0m | \u001b[36m__main__\u001b[0m:\u001b[36m<module>\u001b[0m:\u001b[36m5\u001b[0m - \u001b[1mCrawl data from https://www.nhatot.com/https://www.nhatot.com/thue-bat-dong-san?page=47\u001b[0m\n",
      "\u001b[32m2024-10-25 21:01:06.945\u001b[0m | \u001b[1mINFO    \u001b[0m | \u001b[36m__main__\u001b[0m:\u001b[36m<module>\u001b[0m:\u001b[36m5\u001b[0m - \u001b[1mCrawl data from https://www.nhatot.com/https://www.nhatot.com/thue-bat-dong-san?page=48\u001b[0m\n",
      "\u001b[32m2024-10-25 21:01:08.456\u001b[0m | \u001b[1mINFO    \u001b[0m | \u001b[36m__main__\u001b[0m:\u001b[36m<module>\u001b[0m:\u001b[36m5\u001b[0m - \u001b[1mCrawl data from https://www.nhatot.com/https://www.nhatot.com/thue-bat-dong-san?page=49\u001b[0m\n",
      "\u001b[32m2024-10-25 21:01:14.641\u001b[0m | \u001b[1mINFO    \u001b[0m | \u001b[36m__main__\u001b[0m:\u001b[36m<module>\u001b[0m:\u001b[36m5\u001b[0m - \u001b[1mCrawl data from https://www.nhatot.com/https://www.nhatot.com/thue-bat-dong-san?page=50\u001b[0m\n",
      "\u001b[32m2024-10-25 21:01:16.503\u001b[0m | \u001b[1mINFO    \u001b[0m | \u001b[36m__main__\u001b[0m:\u001b[36m<module>\u001b[0m:\u001b[36m5\u001b[0m - \u001b[1mCrawl data from https://www.nhatot.com/https://www.nhatot.com/thue-bat-dong-san?page=51\u001b[0m\n",
      "\u001b[32m2024-10-25 21:01:18.000\u001b[0m | \u001b[1mINFO    \u001b[0m | \u001b[36m__main__\u001b[0m:\u001b[36m<module>\u001b[0m:\u001b[36m5\u001b[0m - \u001b[1mCrawl data from https://www.nhatot.com/https://www.nhatot.com/thue-bat-dong-san?page=52\u001b[0m\n",
      "\u001b[32m2024-10-25 21:01:19.379\u001b[0m | \u001b[1mINFO    \u001b[0m | \u001b[36m__main__\u001b[0m:\u001b[36m<module>\u001b[0m:\u001b[36m5\u001b[0m - \u001b[1mCrawl data from https://www.nhatot.com/https://www.nhatot.com/thue-bat-dong-san?page=53\u001b[0m\n",
      "\u001b[32m2024-10-25 21:01:20.891\u001b[0m | \u001b[1mINFO    \u001b[0m | \u001b[36m__main__\u001b[0m:\u001b[36m<module>\u001b[0m:\u001b[36m5\u001b[0m - \u001b[1mCrawl data from https://www.nhatot.com/https://www.nhatot.com/thue-bat-dong-san?page=54\u001b[0m\n",
      "\u001b[32m2024-10-25 21:01:24.733\u001b[0m | \u001b[1mINFO    \u001b[0m | \u001b[36m__main__\u001b[0m:\u001b[36m<module>\u001b[0m:\u001b[36m5\u001b[0m - \u001b[1mCrawl data from https://www.nhatot.com/https://www.nhatot.com/thue-bat-dong-san?page=55\u001b[0m\n",
      "\u001b[32m2024-10-25 21:01:26.712\u001b[0m | \u001b[1mINFO    \u001b[0m | \u001b[36m__main__\u001b[0m:\u001b[36m<module>\u001b[0m:\u001b[36m5\u001b[0m - \u001b[1mCrawl data from https://www.nhatot.com/https://www.nhatot.com/thue-bat-dong-san?page=56\u001b[0m\n",
      "\u001b[32m2024-10-25 21:01:29.873\u001b[0m | \u001b[1mINFO    \u001b[0m | \u001b[36m__main__\u001b[0m:\u001b[36m<module>\u001b[0m:\u001b[36m5\u001b[0m - \u001b[1mCrawl data from https://www.nhatot.com/https://www.nhatot.com/thue-bat-dong-san?page=57\u001b[0m\n",
      "\u001b[32m2024-10-25 21:01:33.250\u001b[0m | \u001b[1mINFO    \u001b[0m | \u001b[36m__main__\u001b[0m:\u001b[36m<module>\u001b[0m:\u001b[36m5\u001b[0m - \u001b[1mCrawl data from https://www.nhatot.com/https://www.nhatot.com/thue-bat-dong-san?page=58\u001b[0m\n",
      "\u001b[32m2024-10-25 21:01:35.802\u001b[0m | \u001b[1mINFO    \u001b[0m | \u001b[36m__main__\u001b[0m:\u001b[36m<module>\u001b[0m:\u001b[36m5\u001b[0m - \u001b[1mCrawl data from https://www.nhatot.com/https://www.nhatot.com/thue-bat-dong-san?page=59\u001b[0m\n",
      "\u001b[32m2024-10-25 21:01:39.650\u001b[0m | \u001b[1mINFO    \u001b[0m | \u001b[36m__main__\u001b[0m:\u001b[36m<module>\u001b[0m:\u001b[36m5\u001b[0m - \u001b[1mCrawl data from https://www.nhatot.com/https://www.nhatot.com/thue-bat-dong-san?page=60\u001b[0m\n",
      "\u001b[32m2024-10-25 21:01:41.224\u001b[0m | \u001b[1mINFO    \u001b[0m | \u001b[36m__main__\u001b[0m:\u001b[36m<module>\u001b[0m:\u001b[36m5\u001b[0m - \u001b[1mCrawl data from https://www.nhatot.com/https://www.nhatot.com/thue-bat-dong-san?page=61\u001b[0m\n",
      "\u001b[32m2024-10-25 21:01:43.408\u001b[0m | \u001b[1mINFO    \u001b[0m | \u001b[36m__main__\u001b[0m:\u001b[36m<module>\u001b[0m:\u001b[36m5\u001b[0m - \u001b[1mCrawl data from https://www.nhatot.com/https://www.nhatot.com/thue-bat-dong-san?page=62\u001b[0m\n",
      "\u001b[32m2024-10-25 21:01:46.355\u001b[0m | \u001b[1mINFO    \u001b[0m | \u001b[36m__main__\u001b[0m:\u001b[36m<module>\u001b[0m:\u001b[36m5\u001b[0m - \u001b[1mCrawl data from https://www.nhatot.com/https://www.nhatot.com/thue-bat-dong-san?page=63\u001b[0m\n",
      "\u001b[32m2024-10-25 21:01:50.045\u001b[0m | \u001b[1mINFO    \u001b[0m | \u001b[36m__main__\u001b[0m:\u001b[36m<module>\u001b[0m:\u001b[36m5\u001b[0m - \u001b[1mCrawl data from https://www.nhatot.com/https://www.nhatot.com/thue-bat-dong-san?page=64\u001b[0m\n",
      "\u001b[32m2024-10-25 21:02:04.590\u001b[0m | \u001b[1mINFO    \u001b[0m | \u001b[36m__main__\u001b[0m:\u001b[36m<module>\u001b[0m:\u001b[36m5\u001b[0m - \u001b[1mCrawl data from https://www.nhatot.com/https://www.nhatot.com/thue-bat-dong-san?page=65\u001b[0m\n",
      "\u001b[32m2024-10-25 21:02:06.782\u001b[0m | \u001b[1mINFO    \u001b[0m | \u001b[36m__main__\u001b[0m:\u001b[36m<module>\u001b[0m:\u001b[36m5\u001b[0m - \u001b[1mCrawl data from https://www.nhatot.com/https://www.nhatot.com/thue-bat-dong-san?page=66\u001b[0m\n",
      "\u001b[32m2024-10-25 21:02:07.698\u001b[0m | \u001b[1mINFO    \u001b[0m | \u001b[36m__main__\u001b[0m:\u001b[36m<module>\u001b[0m:\u001b[36m5\u001b[0m - \u001b[1mCrawl data from https://www.nhatot.com/https://www.nhatot.com/thue-bat-dong-san?page=67\u001b[0m\n",
      "\u001b[32m2024-10-25 21:02:11.608\u001b[0m | \u001b[1mINFO    \u001b[0m | \u001b[36m__main__\u001b[0m:\u001b[36m<module>\u001b[0m:\u001b[36m5\u001b[0m - \u001b[1mCrawl data from https://www.nhatot.com/https://www.nhatot.com/thue-bat-dong-san?page=68\u001b[0m\n",
      "\u001b[32m2024-10-25 21:02:13.768\u001b[0m | \u001b[1mINFO    \u001b[0m | \u001b[36m__main__\u001b[0m:\u001b[36m<module>\u001b[0m:\u001b[36m5\u001b[0m - \u001b[1mCrawl data from https://www.nhatot.com/https://www.nhatot.com/thue-bat-dong-san?page=69\u001b[0m\n",
      "\u001b[32m2024-10-25 21:02:16.337\u001b[0m | \u001b[1mINFO    \u001b[0m | \u001b[36m__main__\u001b[0m:\u001b[36m<module>\u001b[0m:\u001b[36m5\u001b[0m - \u001b[1mCrawl data from https://www.nhatot.com/https://www.nhatot.com/thue-bat-dong-san?page=70\u001b[0m\n",
      "\u001b[32m2024-10-25 21:02:18.455\u001b[0m | \u001b[1mINFO    \u001b[0m | \u001b[36m__main__\u001b[0m:\u001b[36m<module>\u001b[0m:\u001b[36m5\u001b[0m - \u001b[1mCrawl data from https://www.nhatot.com/https://www.nhatot.com/thue-bat-dong-san?page=71\u001b[0m\n",
      "\u001b[32m2024-10-25 21:02:20.143\u001b[0m | \u001b[1mINFO    \u001b[0m | \u001b[36m__main__\u001b[0m:\u001b[36m<module>\u001b[0m:\u001b[36m5\u001b[0m - \u001b[1mCrawl data from https://www.nhatot.com/https://www.nhatot.com/thue-bat-dong-san?page=72\u001b[0m\n",
      "\u001b[32m2024-10-25 21:02:21.985\u001b[0m | \u001b[1mINFO    \u001b[0m | \u001b[36m__main__\u001b[0m:\u001b[36m<module>\u001b[0m:\u001b[36m5\u001b[0m - \u001b[1mCrawl data from https://www.nhatot.com/https://www.nhatot.com/thue-bat-dong-san?page=73\u001b[0m\n",
      "\u001b[32m2024-10-25 21:02:24.375\u001b[0m | \u001b[1mINFO    \u001b[0m | \u001b[36m__main__\u001b[0m:\u001b[36m<module>\u001b[0m:\u001b[36m5\u001b[0m - \u001b[1mCrawl data from https://www.nhatot.com/https://www.nhatot.com/thue-bat-dong-san?page=74\u001b[0m\n",
      "\u001b[32m2024-10-25 21:02:28.265\u001b[0m | \u001b[1mINFO    \u001b[0m | \u001b[36m__main__\u001b[0m:\u001b[36m<module>\u001b[0m:\u001b[36m5\u001b[0m - \u001b[1mCrawl data from https://www.nhatot.com/https://www.nhatot.com/thue-bat-dong-san?page=75\u001b[0m\n",
      "\u001b[32m2024-10-25 21:02:34.358\u001b[0m | \u001b[1mINFO    \u001b[0m | \u001b[36m__main__\u001b[0m:\u001b[36m<module>\u001b[0m:\u001b[36m5\u001b[0m - \u001b[1mCrawl data from https://www.nhatot.com/https://www.nhatot.com/thue-bat-dong-san?page=76\u001b[0m\n",
      "\u001b[32m2024-10-25 21:02:36.046\u001b[0m | \u001b[1mINFO    \u001b[0m | \u001b[36m__main__\u001b[0m:\u001b[36m<module>\u001b[0m:\u001b[36m5\u001b[0m - \u001b[1mCrawl data from https://www.nhatot.com/https://www.nhatot.com/thue-bat-dong-san?page=77\u001b[0m\n",
      "\u001b[32m2024-10-25 21:02:38.214\u001b[0m | \u001b[1mINFO    \u001b[0m | \u001b[36m__main__\u001b[0m:\u001b[36m<module>\u001b[0m:\u001b[36m5\u001b[0m - \u001b[1mCrawl data from https://www.nhatot.com/https://www.nhatot.com/thue-bat-dong-san?page=78\u001b[0m\n",
      "\u001b[32m2024-10-25 21:02:42.333\u001b[0m | \u001b[1mINFO    \u001b[0m | \u001b[36m__main__\u001b[0m:\u001b[36m<module>\u001b[0m:\u001b[36m5\u001b[0m - \u001b[1mCrawl data from https://www.nhatot.com/https://www.nhatot.com/thue-bat-dong-san?page=79\u001b[0m\n",
      "\u001b[32m2024-10-25 21:02:45.016\u001b[0m | \u001b[1mINFO    \u001b[0m | \u001b[36m__main__\u001b[0m:\u001b[36m<module>\u001b[0m:\u001b[36m5\u001b[0m - \u001b[1mCrawl data from https://www.nhatot.com/https://www.nhatot.com/thue-bat-dong-san?page=80\u001b[0m\n",
      "\u001b[32m2024-10-25 21:02:47.792\u001b[0m | \u001b[1mINFO    \u001b[0m | \u001b[36m__main__\u001b[0m:\u001b[36m<module>\u001b[0m:\u001b[36m5\u001b[0m - \u001b[1mCrawl data from https://www.nhatot.com/https://www.nhatot.com/thue-bat-dong-san?page=81\u001b[0m\n",
      "\u001b[32m2024-10-25 21:02:49.829\u001b[0m | \u001b[1mINFO    \u001b[0m | \u001b[36m__main__\u001b[0m:\u001b[36m<module>\u001b[0m:\u001b[36m5\u001b[0m - \u001b[1mCrawl data from https://www.nhatot.com/https://www.nhatot.com/thue-bat-dong-san?page=82\u001b[0m\n",
      "\u001b[32m2024-10-25 21:02:52.260\u001b[0m | \u001b[1mINFO    \u001b[0m | \u001b[36m__main__\u001b[0m:\u001b[36m<module>\u001b[0m:\u001b[36m5\u001b[0m - \u001b[1mCrawl data from https://www.nhatot.com/https://www.nhatot.com/thue-bat-dong-san?page=83\u001b[0m\n",
      "\u001b[32m2024-10-25 21:02:56.605\u001b[0m | \u001b[1mINFO    \u001b[0m | \u001b[36m__main__\u001b[0m:\u001b[36m<module>\u001b[0m:\u001b[36m5\u001b[0m - \u001b[1mCrawl data from https://www.nhatot.com/https://www.nhatot.com/thue-bat-dong-san?page=84\u001b[0m\n",
      "\u001b[32m2024-10-25 21:02:58.227\u001b[0m | \u001b[1mINFO    \u001b[0m | \u001b[36m__main__\u001b[0m:\u001b[36m<module>\u001b[0m:\u001b[36m5\u001b[0m - \u001b[1mCrawl data from https://www.nhatot.com/https://www.nhatot.com/thue-bat-dong-san?page=85\u001b[0m\n",
      "\u001b[32m2024-10-25 21:02:59.711\u001b[0m | \u001b[1mINFO    \u001b[0m | \u001b[36m__main__\u001b[0m:\u001b[36m<module>\u001b[0m:\u001b[36m5\u001b[0m - \u001b[1mCrawl data from https://www.nhatot.com/https://www.nhatot.com/thue-bat-dong-san?page=86\u001b[0m\n",
      "\u001b[32m2024-10-25 21:03:01.344\u001b[0m | \u001b[1mINFO    \u001b[0m | \u001b[36m__main__\u001b[0m:\u001b[36m<module>\u001b[0m:\u001b[36m5\u001b[0m - \u001b[1mCrawl data from https://www.nhatot.com/https://www.nhatot.com/thue-bat-dong-san?page=87\u001b[0m\n",
      "\u001b[32m2024-10-25 21:03:06.618\u001b[0m | \u001b[1mINFO    \u001b[0m | \u001b[36m__main__\u001b[0m:\u001b[36m<module>\u001b[0m:\u001b[36m5\u001b[0m - \u001b[1mCrawl data from https://www.nhatot.com/https://www.nhatot.com/thue-bat-dong-san?page=88\u001b[0m\n",
      "\u001b[32m2024-10-25 21:03:08.227\u001b[0m | \u001b[1mINFO    \u001b[0m | \u001b[36m__main__\u001b[0m:\u001b[36m<module>\u001b[0m:\u001b[36m5\u001b[0m - \u001b[1mCrawl data from https://www.nhatot.com/https://www.nhatot.com/thue-bat-dong-san?page=89\u001b[0m\n",
      "\u001b[32m2024-10-25 21:03:09.973\u001b[0m | \u001b[1mINFO    \u001b[0m | \u001b[36m__main__\u001b[0m:\u001b[36m<module>\u001b[0m:\u001b[36m5\u001b[0m - \u001b[1mCrawl data from https://www.nhatot.com/https://www.nhatot.com/thue-bat-dong-san?page=90\u001b[0m\n",
      "\u001b[32m2024-10-25 21:03:12.239\u001b[0m | \u001b[1mINFO    \u001b[0m | \u001b[36m__main__\u001b[0m:\u001b[36m<module>\u001b[0m:\u001b[36m5\u001b[0m - \u001b[1mCrawl data from https://www.nhatot.com/https://www.nhatot.com/thue-bat-dong-san?page=91\u001b[0m\n",
      "\u001b[32m2024-10-25 21:03:15.069\u001b[0m | \u001b[1mINFO    \u001b[0m | \u001b[36m__main__\u001b[0m:\u001b[36m<module>\u001b[0m:\u001b[36m5\u001b[0m - \u001b[1mCrawl data from https://www.nhatot.com/https://www.nhatot.com/thue-bat-dong-san?page=92\u001b[0m\n",
      "\u001b[32m2024-10-25 21:03:16.577\u001b[0m | \u001b[1mINFO    \u001b[0m | \u001b[36m__main__\u001b[0m:\u001b[36m<module>\u001b[0m:\u001b[36m5\u001b[0m - \u001b[1mCrawl data from https://www.nhatot.com/https://www.nhatot.com/thue-bat-dong-san?page=93\u001b[0m\n",
      "\u001b[32m2024-10-25 21:03:18.767\u001b[0m | \u001b[1mINFO    \u001b[0m | \u001b[36m__main__\u001b[0m:\u001b[36m<module>\u001b[0m:\u001b[36m5\u001b[0m - \u001b[1mCrawl data from https://www.nhatot.com/https://www.nhatot.com/thue-bat-dong-san?page=94\u001b[0m\n",
      "\u001b[32m2024-10-25 21:03:22.377\u001b[0m | \u001b[1mINFO    \u001b[0m | \u001b[36m__main__\u001b[0m:\u001b[36m<module>\u001b[0m:\u001b[36m5\u001b[0m - \u001b[1mCrawl data from https://www.nhatot.com/https://www.nhatot.com/thue-bat-dong-san?page=95\u001b[0m\n",
      "\u001b[32m2024-10-25 21:03:23.835\u001b[0m | \u001b[1mINFO    \u001b[0m | \u001b[36m__main__\u001b[0m:\u001b[36m<module>\u001b[0m:\u001b[36m5\u001b[0m - \u001b[1mCrawl data from https://www.nhatot.com/https://www.nhatot.com/thue-bat-dong-san?page=96\u001b[0m\n",
      "\u001b[32m2024-10-25 21:03:25.482\u001b[0m | \u001b[1mINFO    \u001b[0m | \u001b[36m__main__\u001b[0m:\u001b[36m<module>\u001b[0m:\u001b[36m5\u001b[0m - \u001b[1mCrawl data from https://www.nhatot.com/https://www.nhatot.com/thue-bat-dong-san?page=97\u001b[0m\n",
      "\u001b[32m2024-10-25 21:03:27.811\u001b[0m | \u001b[1mINFO    \u001b[0m | \u001b[36m__main__\u001b[0m:\u001b[36m<module>\u001b[0m:\u001b[36m5\u001b[0m - \u001b[1mCrawl data from https://www.nhatot.com/https://www.nhatot.com/thue-bat-dong-san?page=98\u001b[0m\n",
      "\u001b[32m2024-10-25 21:03:31.905\u001b[0m | \u001b[1mINFO    \u001b[0m | \u001b[36m__main__\u001b[0m:\u001b[36m<module>\u001b[0m:\u001b[36m5\u001b[0m - \u001b[1mCrawl data from https://www.nhatot.com/https://www.nhatot.com/thue-bat-dong-san?page=99\u001b[0m\n",
      "\u001b[32m2024-10-25 21:03:34.225\u001b[0m | \u001b[1mINFO    \u001b[0m | \u001b[36m__main__\u001b[0m:\u001b[36m<module>\u001b[0m:\u001b[36m5\u001b[0m - \u001b[1mCrawl data from https://www.nhatot.com/https://www.nhatot.com/thue-bat-dong-san?page=100\u001b[0m\n"
     ]
    }
   ],
   "source": [
    "result = []\n",
    "for page in range(page_from, page_to + 1, 1):\n",
    "    try:\n",
    "        url = f\"https://www.nhatot.com/https://www.nhatot.com/thue-bat-dong-san?page={page}\"\n",
    "        logger.info(f\"Crawl data from {url}\")\n",
    "        data = crawler.crawl(url)\n",
    "        result.extend(data)\n",
    "    except Exception as e:\n",
    "        logger.warning(f\"Failed to crawl {url}, reason {e}\")"
   ]
  },
  {
   "cell_type": "code",
   "execution_count": 10,
   "metadata": {},
   "outputs": [
    {
     "name": "stderr",
     "output_type": "stream",
     "text": [
      "\u001b[32m2024-10-25 21:03:37.077\u001b[0m | \u001b[1mINFO    \u001b[0m | \u001b[36m__main__\u001b[0m:\u001b[36m<module>\u001b[0m:\u001b[36m1\u001b[0m - \u001b[1m========= Done ========\u001b[0m\n"
     ]
    }
   ],
   "source": [
    "logger.info(\"========= Done ========\")"
   ]
  },
  {
   "cell_type": "code",
   "execution_count": 14,
   "metadata": {},
   "outputs": [],
   "source": [
    "df = []\n",
    "for x in result:\n",
    "    df.append({\n",
    "        \"post_id\": x.post_id,\n",
    "        \"post_url\": x.post_url\n",
    "    })\n",
    "df = pd.DataFrame(df)"
   ]
  },
  {
   "cell_type": "code",
   "execution_count": 17,
   "metadata": {},
   "outputs": [],
   "source": [
    "df.to_csv(app_config.DATA_PATH.joinpath(\"list.csv\"))"
   ]
  }
 ],
 "metadata": {
  "kernelspec": {
   "display_name": "housing-market-dashboard-pvUQCj6N-py3.12",
   "language": "python",
   "name": "python3"
  },
  "language_info": {
   "codemirror_mode": {
    "name": "ipython",
    "version": 3
   },
   "file_extension": ".py",
   "mimetype": "text/x-python",
   "name": "python",
   "nbconvert_exporter": "python",
   "pygments_lexer": "ipython3",
   "version": "3.12.6"
  }
 },
 "nbformat": 4,
 "nbformat_minor": 2
}
