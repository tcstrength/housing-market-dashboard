{
 "cells": [
  {
   "cell_type": "code",
   "execution_count": 1,
   "metadata": {},
   "outputs": [
    {
     "name": "stdout",
     "output_type": "stream",
     "text": [
      "Project Root: /Users/tccuong1404/Documents/Project/housing-market-dashboard\n"
     ]
    }
   ],
   "source": [
    "import pandas as pd\n",
    "from loguru import logger\n",
    "from hmd.core import app_config\n",
    "from hmd.crawlers.list_page import ListPageCrawler"
   ]
  },
  {
   "cell_type": "code",
   "execution_count": 2,
   "metadata": {},
   "outputs": [],
   "source": [
    "crawler = ListPageCrawler()\n",
    "page_from = 1\n",
    "page_to = 1"
   ]
  },
  {
   "cell_type": "code",
   "execution_count": 3,
   "metadata": {},
   "outputs": [
    {
     "name": "stdout",
     "output_type": "stream",
     "text": [
      "\u001b[32m2024-11-05 22:08:47.064\u001b[0m | \u001b[1mINFO    \u001b[0m | \u001b[36m__main__\u001b[0m:\u001b[36m<module>\u001b[0m:\u001b[36m5\u001b[0m - \u001b[1mCrawl data from https://www.nhatot.com/https://www.nhatot.com/mua-ban-bat-dong-san?page=1\u001b[0m\n"
     ]
    }
   ],
   "source": [
    "result = []\n",
    "for page in range(page_from, page_to + 1, 1):\n",
    "    try:\n",
    "        url = f\"https://www.nhatot.com/https://www.nhatot.com/mua-ban-bat-dong-san?page={page}\"\n",
    "        logger.info(f\"Crawl data from {url}\")\n",
    "        data = crawler.crawl(url)\n",
    "        result.extend(data)\n",
    "    except Exception as e:\n",
    "        logger.warning(f\"Failed to crawl {url}, reason {e}\")"
   ]
  },
  {
   "cell_type": "code",
   "execution_count": 4,
   "metadata": {},
   "outputs": [
    {
     "name": "stdout",
     "output_type": "stream",
     "text": [
      "\u001b[32m2024-11-05 22:08:48.689\u001b[0m | \u001b[1mINFO    \u001b[0m | \u001b[36m__main__\u001b[0m:\u001b[36m<module>\u001b[0m:\u001b[36m1\u001b[0m - \u001b[1m========= Done ========\u001b[0m\n"
     ]
    }
   ],
   "source": [
    "logger.info(\"========= Done ========\")"
   ]
  },
  {
   "cell_type": "code",
   "execution_count": 8,
   "metadata": {},
   "outputs": [
    {
     "data": {
      "text/html": [
       "<div>\n",
       "<style scoped>\n",
       "    .dataframe tbody tr th:only-of-type {\n",
       "        vertical-align: middle;\n",
       "    }\n",
       "\n",
       "    .dataframe tbody tr th {\n",
       "        vertical-align: top;\n",
       "    }\n",
       "\n",
       "    .dataframe thead th {\n",
       "        text-align: right;\n",
       "    }\n",
       "</style>\n",
       "<table border=\"1\" class=\"dataframe\">\n",
       "  <thead>\n",
       "    <tr style=\"text-align: right;\">\n",
       "      <th></th>\n",
       "      <th>post_id</th>\n",
       "      <th>post_url</th>\n",
       "    </tr>\n",
       "  </thead>\n",
       "  <tbody>\n",
       "    <tr>\n",
       "      <th>0</th>\n",
       "      <td>118778717</td>\n",
       "      <td>https://www.nhatot.com/mua-ban-nha-dat-quan-ng...</td>\n",
       "    </tr>\n",
       "    <tr>\n",
       "      <th>1</th>\n",
       "      <td>120676105</td>\n",
       "      <td>https://www.nhatot.com/mua-ban-dat-huyen-duc-h...</td>\n",
       "    </tr>\n",
       "    <tr>\n",
       "      <th>2</th>\n",
       "      <td>120750330</td>\n",
       "      <td>https://www.nhatot.com/mua-ban-dat-huyen-dong-...</td>\n",
       "    </tr>\n",
       "  </tbody>\n",
       "</table>\n",
       "</div>"
      ],
      "text/plain": [
       "     post_id                                           post_url\n",
       "0  118778717  https://www.nhatot.com/mua-ban-nha-dat-quan-ng...\n",
       "1  120676105  https://www.nhatot.com/mua-ban-dat-huyen-duc-h...\n",
       "2  120750330  https://www.nhatot.com/mua-ban-dat-huyen-dong-..."
      ]
     },
     "execution_count": 8,
     "metadata": {},
     "output_type": "execute_result"
    }
   ],
   "source": [
    "df = []\n",
    "for x in result:\n",
    "    df.append({\n",
    "        \"post_id\": x.post_id,\n",
    "        \"post_url\": x.post_url\n",
    "    })\n",
    "df = pd.DataFrame(df)\n",
    "df.head(3)"
   ]
  },
  {
   "cell_type": "code",
   "execution_count": 6,
   "metadata": {},
   "outputs": [],
   "source": [
    "df.to_csv(app_config.DATA_PATH.joinpath(\"list_mua_ban.csv\"))"
   ]
  },
  {
   "cell_type": "code",
   "execution_count": null,
   "metadata": {},
   "outputs": [],
   "source": []
  }
 ],
 "metadata": {
  "kernelspec": {
   "display_name": "housing-market-dashboard-pvUQCj6N-py3.12",
   "language": "python",
   "name": "python3"
  },
  "language_info": {
   "codemirror_mode": {
    "name": "ipython",
    "version": 3
   },
   "file_extension": ".py",
   "mimetype": "text/x-python",
   "name": "python",
   "nbconvert_exporter": "python",
   "pygments_lexer": "ipython3",
   "version": "3.12.6"
  }
 },
 "nbformat": 4,
 "nbformat_minor": 2
}
