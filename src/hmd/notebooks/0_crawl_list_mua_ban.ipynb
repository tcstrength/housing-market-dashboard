{
 "cells": [
  {
   "cell_type": "code",
   "execution_count": 1,
   "metadata": {},
   "outputs": [
    {
     "name": "stdout",
     "output_type": "stream",
     "text": [
      "Project Root: /Users/tccuong1404/Documents/Project/housing-market-dashboard\n"
     ]
    }
   ],
   "source": [
    "import pandas as pd\n",
    "from loguru import logger\n",
    "from hmd.core import app_config\n",
    "from hmd.crawlers.list_page import ListPageCrawler"
   ]
  },
  {
   "cell_type": "code",
   "execution_count": 2,
   "metadata": {},
   "outputs": [],
   "source": [
    "crawler = ListPageCrawler()\n",
    "page_from = 1\n",
    "page_to = 100"
   ]
  },
  {
   "cell_type": "code",
   "execution_count": 3,
   "metadata": {},
   "outputs": [
    {
     "name": "stdout",
     "output_type": "stream",
     "text": [
      "\u001b[32m2024-10-25 21:31:57.124\u001b[0m | \u001b[1mINFO    \u001b[0m | \u001b[36m__main__\u001b[0m:\u001b[36m<module>\u001b[0m:\u001b[36m5\u001b[0m - \u001b[1mCrawl data from https://www.nhatot.com/https://www.nhatot.com/mua-ban-bat-dong-san?page=1\u001b[0m\n",
      "\u001b[32m2024-10-25 21:31:58.881\u001b[0m | \u001b[1mINFO    \u001b[0m | \u001b[36m__main__\u001b[0m:\u001b[36m<module>\u001b[0m:\u001b[36m5\u001b[0m - \u001b[1mCrawl data from https://www.nhatot.com/https://www.nhatot.com/mua-ban-bat-dong-san?page=2\u001b[0m\n",
      "\u001b[32m2024-10-25 21:32:00.919\u001b[0m | \u001b[1mINFO    \u001b[0m | \u001b[36m__main__\u001b[0m:\u001b[36m<module>\u001b[0m:\u001b[36m5\u001b[0m - \u001b[1mCrawl data from https://www.nhatot.com/https://www.nhatot.com/mua-ban-bat-dong-san?page=3\u001b[0m\n",
      "\u001b[32m2024-10-25 21:32:02.327\u001b[0m | \u001b[1mINFO    \u001b[0m | \u001b[36m__main__\u001b[0m:\u001b[36m<module>\u001b[0m:\u001b[36m5\u001b[0m - \u001b[1mCrawl data from https://www.nhatot.com/https://www.nhatot.com/mua-ban-bat-dong-san?page=4\u001b[0m\n",
      "\u001b[32m2024-10-25 21:32:04.126\u001b[0m | \u001b[1mINFO    \u001b[0m | \u001b[36m__main__\u001b[0m:\u001b[36m<module>\u001b[0m:\u001b[36m5\u001b[0m - \u001b[1mCrawl data from https://www.nhatot.com/https://www.nhatot.com/mua-ban-bat-dong-san?page=5\u001b[0m\n",
      "\u001b[32m2024-10-25 21:32:15.090\u001b[0m | \u001b[1mINFO    \u001b[0m | \u001b[36m__main__\u001b[0m:\u001b[36m<module>\u001b[0m:\u001b[36m5\u001b[0m - \u001b[1mCrawl data from https://www.nhatot.com/https://www.nhatot.com/mua-ban-bat-dong-san?page=6\u001b[0m\n",
      "\u001b[32m2024-10-25 21:32:17.680\u001b[0m | \u001b[1mINFO    \u001b[0m | \u001b[36m__main__\u001b[0m:\u001b[36m<module>\u001b[0m:\u001b[36m5\u001b[0m - \u001b[1mCrawl data from https://www.nhatot.com/https://www.nhatot.com/mua-ban-bat-dong-san?page=7\u001b[0m\n",
      "\u001b[32m2024-10-25 21:32:18.987\u001b[0m | \u001b[1mINFO    \u001b[0m | \u001b[36m__main__\u001b[0m:\u001b[36m<module>\u001b[0m:\u001b[36m5\u001b[0m - \u001b[1mCrawl data from https://www.nhatot.com/https://www.nhatot.com/mua-ban-bat-dong-san?page=8\u001b[0m\n",
      "\u001b[32m2024-10-25 21:32:20.530\u001b[0m | \u001b[1mINFO    \u001b[0m | \u001b[36m__main__\u001b[0m:\u001b[36m<module>\u001b[0m:\u001b[36m5\u001b[0m - \u001b[1mCrawl data from https://www.nhatot.com/https://www.nhatot.com/mua-ban-bat-dong-san?page=9\u001b[0m\n",
      "\u001b[32m2024-10-25 21:32:25.939\u001b[0m | \u001b[1mINFO    \u001b[0m | \u001b[36m__main__\u001b[0m:\u001b[36m<module>\u001b[0m:\u001b[36m5\u001b[0m - \u001b[1mCrawl data from https://www.nhatot.com/https://www.nhatot.com/mua-ban-bat-dong-san?page=10\u001b[0m\n",
      "\u001b[32m2024-10-25 21:32:31.597\u001b[0m | \u001b[1mINFO    \u001b[0m | \u001b[36m__main__\u001b[0m:\u001b[36m<module>\u001b[0m:\u001b[36m5\u001b[0m - \u001b[1mCrawl data from https://www.nhatot.com/https://www.nhatot.com/mua-ban-bat-dong-san?page=11\u001b[0m\n",
      "\u001b[32m2024-10-25 21:32:33.654\u001b[0m | \u001b[1mINFO    \u001b[0m | \u001b[36m__main__\u001b[0m:\u001b[36m<module>\u001b[0m:\u001b[36m5\u001b[0m - \u001b[1mCrawl data from https://www.nhatot.com/https://www.nhatot.com/mua-ban-bat-dong-san?page=12\u001b[0m\n",
      "\u001b[32m2024-10-25 21:32:35.142\u001b[0m | \u001b[1mINFO    \u001b[0m | \u001b[36m__main__\u001b[0m:\u001b[36m<module>\u001b[0m:\u001b[36m5\u001b[0m - \u001b[1mCrawl data from https://www.nhatot.com/https://www.nhatot.com/mua-ban-bat-dong-san?page=13\u001b[0m\n",
      "\u001b[32m2024-10-25 21:32:39.359\u001b[0m | \u001b[1mINFO    \u001b[0m | \u001b[36m__main__\u001b[0m:\u001b[36m<module>\u001b[0m:\u001b[36m5\u001b[0m - \u001b[1mCrawl data from https://www.nhatot.com/https://www.nhatot.com/mua-ban-bat-dong-san?page=14\u001b[0m\n",
      "\u001b[32m2024-10-25 21:32:42.101\u001b[0m | \u001b[1mINFO    \u001b[0m | \u001b[36m__main__\u001b[0m:\u001b[36m<module>\u001b[0m:\u001b[36m5\u001b[0m - \u001b[1mCrawl data from https://www.nhatot.com/https://www.nhatot.com/mua-ban-bat-dong-san?page=15\u001b[0m\n",
      "\u001b[32m2024-10-25 21:32:46.622\u001b[0m | \u001b[1mINFO    \u001b[0m | \u001b[36m__main__\u001b[0m:\u001b[36m<module>\u001b[0m:\u001b[36m5\u001b[0m - \u001b[1mCrawl data from https://www.nhatot.com/https://www.nhatot.com/mua-ban-bat-dong-san?page=16\u001b[0m\n",
      "\u001b[32m2024-10-25 21:32:47.976\u001b[0m | \u001b[1mINFO    \u001b[0m | \u001b[36m__main__\u001b[0m:\u001b[36m<module>\u001b[0m:\u001b[36m5\u001b[0m - \u001b[1mCrawl data from https://www.nhatot.com/https://www.nhatot.com/mua-ban-bat-dong-san?page=17\u001b[0m\n",
      "\u001b[32m2024-10-25 21:32:49.234\u001b[0m | \u001b[1mINFO    \u001b[0m | \u001b[36m__main__\u001b[0m:\u001b[36m<module>\u001b[0m:\u001b[36m5\u001b[0m - \u001b[1mCrawl data from https://www.nhatot.com/https://www.nhatot.com/mua-ban-bat-dong-san?page=18\u001b[0m\n",
      "\u001b[32m2024-10-25 21:32:50.890\u001b[0m | \u001b[1mINFO    \u001b[0m | \u001b[36m__main__\u001b[0m:\u001b[36m<module>\u001b[0m:\u001b[36m5\u001b[0m - \u001b[1mCrawl data from https://www.nhatot.com/https://www.nhatot.com/mua-ban-bat-dong-san?page=19\u001b[0m\n",
      "\u001b[32m2024-10-25 21:32:52.353\u001b[0m | \u001b[1mINFO    \u001b[0m | \u001b[36m__main__\u001b[0m:\u001b[36m<module>\u001b[0m:\u001b[36m5\u001b[0m - \u001b[1mCrawl data from https://www.nhatot.com/https://www.nhatot.com/mua-ban-bat-dong-san?page=20\u001b[0m\n",
      "\u001b[32m2024-10-25 21:32:54.805\u001b[0m | \u001b[1mINFO    \u001b[0m | \u001b[36m__main__\u001b[0m:\u001b[36m<module>\u001b[0m:\u001b[36m5\u001b[0m - \u001b[1mCrawl data from https://www.nhatot.com/https://www.nhatot.com/mua-ban-bat-dong-san?page=21\u001b[0m\n",
      "\u001b[32m2024-10-25 21:32:57.844\u001b[0m | \u001b[1mINFO    \u001b[0m | \u001b[36m__main__\u001b[0m:\u001b[36m<module>\u001b[0m:\u001b[36m5\u001b[0m - \u001b[1mCrawl data from https://www.nhatot.com/https://www.nhatot.com/mua-ban-bat-dong-san?page=22\u001b[0m\n",
      "\u001b[32m2024-10-25 21:32:59.622\u001b[0m | \u001b[1mINFO    \u001b[0m | \u001b[36m__main__\u001b[0m:\u001b[36m<module>\u001b[0m:\u001b[36m5\u001b[0m - \u001b[1mCrawl data from https://www.nhatot.com/https://www.nhatot.com/mua-ban-bat-dong-san?page=23\u001b[0m\n",
      "\u001b[32m2024-10-25 21:33:04.938\u001b[0m | \u001b[1mINFO    \u001b[0m | \u001b[36m__main__\u001b[0m:\u001b[36m<module>\u001b[0m:\u001b[36m5\u001b[0m - \u001b[1mCrawl data from https://www.nhatot.com/https://www.nhatot.com/mua-ban-bat-dong-san?page=24\u001b[0m\n",
      "\u001b[32m2024-10-25 21:33:08.704\u001b[0m | \u001b[1mINFO    \u001b[0m | \u001b[36m__main__\u001b[0m:\u001b[36m<module>\u001b[0m:\u001b[36m5\u001b[0m - \u001b[1mCrawl data from https://www.nhatot.com/https://www.nhatot.com/mua-ban-bat-dong-san?page=25\u001b[0m\n",
      "\u001b[32m2024-10-25 21:33:11.267\u001b[0m | \u001b[1mINFO    \u001b[0m | \u001b[36m__main__\u001b[0m:\u001b[36m<module>\u001b[0m:\u001b[36m5\u001b[0m - \u001b[1mCrawl data from https://www.nhatot.com/https://www.nhatot.com/mua-ban-bat-dong-san?page=26\u001b[0m\n",
      "\u001b[32m2024-10-25 21:33:15.055\u001b[0m | \u001b[1mINFO    \u001b[0m | \u001b[36m__main__\u001b[0m:\u001b[36m<module>\u001b[0m:\u001b[36m5\u001b[0m - \u001b[1mCrawl data from https://www.nhatot.com/https://www.nhatot.com/mua-ban-bat-dong-san?page=27\u001b[0m\n",
      "\u001b[32m2024-10-25 21:33:18.897\u001b[0m | \u001b[1mINFO    \u001b[0m | \u001b[36m__main__\u001b[0m:\u001b[36m<module>\u001b[0m:\u001b[36m5\u001b[0m - \u001b[1mCrawl data from https://www.nhatot.com/https://www.nhatot.com/mua-ban-bat-dong-san?page=28\u001b[0m\n",
      "\u001b[32m2024-10-25 21:33:20.283\u001b[0m | \u001b[1mINFO    \u001b[0m | \u001b[36m__main__\u001b[0m:\u001b[36m<module>\u001b[0m:\u001b[36m5\u001b[0m - \u001b[1mCrawl data from https://www.nhatot.com/https://www.nhatot.com/mua-ban-bat-dong-san?page=29\u001b[0m\n",
      "\u001b[32m2024-10-25 21:33:21.825\u001b[0m | \u001b[1mINFO    \u001b[0m | \u001b[36m__main__\u001b[0m:\u001b[36m<module>\u001b[0m:\u001b[36m5\u001b[0m - \u001b[1mCrawl data from https://www.nhatot.com/https://www.nhatot.com/mua-ban-bat-dong-san?page=30\u001b[0m\n",
      "\u001b[32m2024-10-25 21:33:23.913\u001b[0m | \u001b[1mINFO    \u001b[0m | \u001b[36m__main__\u001b[0m:\u001b[36m<module>\u001b[0m:\u001b[36m5\u001b[0m - \u001b[1mCrawl data from https://www.nhatot.com/https://www.nhatot.com/mua-ban-bat-dong-san?page=31\u001b[0m\n",
      "\u001b[32m2024-10-25 21:33:26.665\u001b[0m | \u001b[1mINFO    \u001b[0m | \u001b[36m__main__\u001b[0m:\u001b[36m<module>\u001b[0m:\u001b[36m5\u001b[0m - \u001b[1mCrawl data from https://www.nhatot.com/https://www.nhatot.com/mua-ban-bat-dong-san?page=32\u001b[0m\n",
      "\u001b[32m2024-10-25 21:33:28.343\u001b[0m | \u001b[1mINFO    \u001b[0m | \u001b[36m__main__\u001b[0m:\u001b[36m<module>\u001b[0m:\u001b[36m5\u001b[0m - \u001b[1mCrawl data from https://www.nhatot.com/https://www.nhatot.com/mua-ban-bat-dong-san?page=33\u001b[0m\n",
      "\u001b[32m2024-10-25 21:33:29.834\u001b[0m | \u001b[1mINFO    \u001b[0m | \u001b[36m__main__\u001b[0m:\u001b[36m<module>\u001b[0m:\u001b[36m5\u001b[0m - \u001b[1mCrawl data from https://www.nhatot.com/https://www.nhatot.com/mua-ban-bat-dong-san?page=34\u001b[0m\n",
      "\u001b[32m2024-10-25 21:33:34.226\u001b[0m | \u001b[1mINFO    \u001b[0m | \u001b[36m__main__\u001b[0m:\u001b[36m<module>\u001b[0m:\u001b[36m5\u001b[0m - \u001b[1mCrawl data from https://www.nhatot.com/https://www.nhatot.com/mua-ban-bat-dong-san?page=35\u001b[0m\n",
      "\u001b[32m2024-10-25 21:33:35.981\u001b[0m | \u001b[1mINFO    \u001b[0m | \u001b[36m__main__\u001b[0m:\u001b[36m<module>\u001b[0m:\u001b[36m5\u001b[0m - \u001b[1mCrawl data from https://www.nhatot.com/https://www.nhatot.com/mua-ban-bat-dong-san?page=36\u001b[0m\n",
      "\u001b[32m2024-10-25 21:34:04.015\u001b[0m | \u001b[1mINFO    \u001b[0m | \u001b[36m__main__\u001b[0m:\u001b[36m<module>\u001b[0m:\u001b[36m5\u001b[0m - \u001b[1mCrawl data from https://www.nhatot.com/https://www.nhatot.com/mua-ban-bat-dong-san?page=37\u001b[0m\n",
      "\u001b[32m2024-10-25 21:34:07.203\u001b[0m | \u001b[1mINFO    \u001b[0m | \u001b[36m__main__\u001b[0m:\u001b[36m<module>\u001b[0m:\u001b[36m5\u001b[0m - \u001b[1mCrawl data from https://www.nhatot.com/https://www.nhatot.com/mua-ban-bat-dong-san?page=38\u001b[0m\n",
      "\u001b[32m2024-10-25 21:34:09.990\u001b[0m | \u001b[1mINFO    \u001b[0m | \u001b[36m__main__\u001b[0m:\u001b[36m<module>\u001b[0m:\u001b[36m5\u001b[0m - \u001b[1mCrawl data from https://www.nhatot.com/https://www.nhatot.com/mua-ban-bat-dong-san?page=39\u001b[0m\n",
      "\u001b[32m2024-10-25 21:34:12.231\u001b[0m | \u001b[1mINFO    \u001b[0m | \u001b[36m__main__\u001b[0m:\u001b[36m<module>\u001b[0m:\u001b[36m5\u001b[0m - \u001b[1mCrawl data from https://www.nhatot.com/https://www.nhatot.com/mua-ban-bat-dong-san?page=40\u001b[0m\n",
      "\u001b[32m2024-10-25 21:34:18.728\u001b[0m | \u001b[1mINFO    \u001b[0m | \u001b[36m__main__\u001b[0m:\u001b[36m<module>\u001b[0m:\u001b[36m5\u001b[0m - \u001b[1mCrawl data from https://www.nhatot.com/https://www.nhatot.com/mua-ban-bat-dong-san?page=41\u001b[0m\n",
      "\u001b[32m2024-10-25 21:34:20.132\u001b[0m | \u001b[1mINFO    \u001b[0m | \u001b[36m__main__\u001b[0m:\u001b[36m<module>\u001b[0m:\u001b[36m5\u001b[0m - \u001b[1mCrawl data from https://www.nhatot.com/https://www.nhatot.com/mua-ban-bat-dong-san?page=42\u001b[0m\n",
      "\u001b[32m2024-10-25 21:34:21.988\u001b[0m | \u001b[1mINFO    \u001b[0m | \u001b[36m__main__\u001b[0m:\u001b[36m<module>\u001b[0m:\u001b[36m5\u001b[0m - \u001b[1mCrawl data from https://www.nhatot.com/https://www.nhatot.com/mua-ban-bat-dong-san?page=43\u001b[0m\n",
      "\u001b[32m2024-10-25 21:34:24.988\u001b[0m | \u001b[1mINFO    \u001b[0m | \u001b[36m__main__\u001b[0m:\u001b[36m<module>\u001b[0m:\u001b[36m5\u001b[0m - \u001b[1mCrawl data from https://www.nhatot.com/https://www.nhatot.com/mua-ban-bat-dong-san?page=44\u001b[0m\n",
      "\u001b[32m2024-10-25 21:34:26.741\u001b[0m | \u001b[1mINFO    \u001b[0m | \u001b[36m__main__\u001b[0m:\u001b[36m<module>\u001b[0m:\u001b[36m5\u001b[0m - \u001b[1mCrawl data from https://www.nhatot.com/https://www.nhatot.com/mua-ban-bat-dong-san?page=45\u001b[0m\n",
      "\u001b[32m2024-10-25 21:34:28.475\u001b[0m | \u001b[1mINFO    \u001b[0m | \u001b[36m__main__\u001b[0m:\u001b[36m<module>\u001b[0m:\u001b[36m5\u001b[0m - \u001b[1mCrawl data from https://www.nhatot.com/https://www.nhatot.com/mua-ban-bat-dong-san?page=46\u001b[0m\n",
      "\u001b[32m2024-10-25 21:34:37.006\u001b[0m | \u001b[1mINFO    \u001b[0m | \u001b[36m__main__\u001b[0m:\u001b[36m<module>\u001b[0m:\u001b[36m5\u001b[0m - \u001b[1mCrawl data from https://www.nhatot.com/https://www.nhatot.com/mua-ban-bat-dong-san?page=47\u001b[0m\n",
      "\u001b[32m2024-10-25 21:34:39.431\u001b[0m | \u001b[1mINFO    \u001b[0m | \u001b[36m__main__\u001b[0m:\u001b[36m<module>\u001b[0m:\u001b[36m5\u001b[0m - \u001b[1mCrawl data from https://www.nhatot.com/https://www.nhatot.com/mua-ban-bat-dong-san?page=48\u001b[0m\n",
      "\u001b[32m2024-10-25 21:34:40.733\u001b[0m | \u001b[1mINFO    \u001b[0m | \u001b[36m__main__\u001b[0m:\u001b[36m<module>\u001b[0m:\u001b[36m5\u001b[0m - \u001b[1mCrawl data from https://www.nhatot.com/https://www.nhatot.com/mua-ban-bat-dong-san?page=49\u001b[0m\n",
      "\u001b[32m2024-10-25 21:34:42.448\u001b[0m | \u001b[1mINFO    \u001b[0m | \u001b[36m__main__\u001b[0m:\u001b[36m<module>\u001b[0m:\u001b[36m5\u001b[0m - \u001b[1mCrawl data from https://www.nhatot.com/https://www.nhatot.com/mua-ban-bat-dong-san?page=50\u001b[0m\n",
      "\u001b[32m2024-10-25 21:34:46.835\u001b[0m | \u001b[1mINFO    \u001b[0m | \u001b[36m__main__\u001b[0m:\u001b[36m<module>\u001b[0m:\u001b[36m5\u001b[0m - \u001b[1mCrawl data from https://www.nhatot.com/https://www.nhatot.com/mua-ban-bat-dong-san?page=51\u001b[0m\n",
      "\u001b[32m2024-10-25 21:34:48.196\u001b[0m | \u001b[1mINFO    \u001b[0m | \u001b[36m__main__\u001b[0m:\u001b[36m<module>\u001b[0m:\u001b[36m5\u001b[0m - \u001b[1mCrawl data from https://www.nhatot.com/https://www.nhatot.com/mua-ban-bat-dong-san?page=52\u001b[0m\n",
      "\u001b[32m2024-10-25 21:34:52.109\u001b[0m | \u001b[1mINFO    \u001b[0m | \u001b[36m__main__\u001b[0m:\u001b[36m<module>\u001b[0m:\u001b[36m5\u001b[0m - \u001b[1mCrawl data from https://www.nhatot.com/https://www.nhatot.com/mua-ban-bat-dong-san?page=53\u001b[0m\n",
      "\u001b[32m2024-10-25 21:34:55.124\u001b[0m | \u001b[1mINFO    \u001b[0m | \u001b[36m__main__\u001b[0m:\u001b[36m<module>\u001b[0m:\u001b[36m5\u001b[0m - \u001b[1mCrawl data from https://www.nhatot.com/https://www.nhatot.com/mua-ban-bat-dong-san?page=54\u001b[0m\n",
      "\u001b[32m2024-10-25 21:34:58.268\u001b[0m | \u001b[1mINFO    \u001b[0m | \u001b[36m__main__\u001b[0m:\u001b[36m<module>\u001b[0m:\u001b[36m5\u001b[0m - \u001b[1mCrawl data from https://www.nhatot.com/https://www.nhatot.com/mua-ban-bat-dong-san?page=55\u001b[0m\n",
      "\u001b[32m2024-10-25 21:34:59.867\u001b[0m | \u001b[1mINFO    \u001b[0m | \u001b[36m__main__\u001b[0m:\u001b[36m<module>\u001b[0m:\u001b[36m5\u001b[0m - \u001b[1mCrawl data from https://www.nhatot.com/https://www.nhatot.com/mua-ban-bat-dong-san?page=56\u001b[0m\n",
      "\u001b[32m2024-10-25 21:35:02.856\u001b[0m | \u001b[1mINFO    \u001b[0m | \u001b[36m__main__\u001b[0m:\u001b[36m<module>\u001b[0m:\u001b[36m5\u001b[0m - \u001b[1mCrawl data from https://www.nhatot.com/https://www.nhatot.com/mua-ban-bat-dong-san?page=57\u001b[0m\n",
      "\u001b[32m2024-10-25 21:35:04.871\u001b[0m | \u001b[1mINFO    \u001b[0m | \u001b[36m__main__\u001b[0m:\u001b[36m<module>\u001b[0m:\u001b[36m5\u001b[0m - \u001b[1mCrawl data from https://www.nhatot.com/https://www.nhatot.com/mua-ban-bat-dong-san?page=58\u001b[0m\n",
      "\u001b[32m2024-10-25 21:35:06.244\u001b[0m | \u001b[1mINFO    \u001b[0m | \u001b[36m__main__\u001b[0m:\u001b[36m<module>\u001b[0m:\u001b[36m5\u001b[0m - \u001b[1mCrawl data from https://www.nhatot.com/https://www.nhatot.com/mua-ban-bat-dong-san?page=59\u001b[0m\n",
      "\u001b[32m2024-10-25 21:35:12.247\u001b[0m | \u001b[1mINFO    \u001b[0m | \u001b[36m__main__\u001b[0m:\u001b[36m<module>\u001b[0m:\u001b[36m5\u001b[0m - \u001b[1mCrawl data from https://www.nhatot.com/https://www.nhatot.com/mua-ban-bat-dong-san?page=60\u001b[0m\n",
      "\u001b[32m2024-10-25 21:35:17.581\u001b[0m | \u001b[1mINFO    \u001b[0m | \u001b[36m__main__\u001b[0m:\u001b[36m<module>\u001b[0m:\u001b[36m5\u001b[0m - \u001b[1mCrawl data from https://www.nhatot.com/https://www.nhatot.com/mua-ban-bat-dong-san?page=61\u001b[0m\n",
      "\u001b[32m2024-10-25 21:35:18.940\u001b[0m | \u001b[1mINFO    \u001b[0m | \u001b[36m__main__\u001b[0m:\u001b[36m<module>\u001b[0m:\u001b[36m5\u001b[0m - \u001b[1mCrawl data from https://www.nhatot.com/https://www.nhatot.com/mua-ban-bat-dong-san?page=62\u001b[0m\n",
      "\u001b[32m2024-10-25 21:35:20.451\u001b[0m | \u001b[1mINFO    \u001b[0m | \u001b[36m__main__\u001b[0m:\u001b[36m<module>\u001b[0m:\u001b[36m5\u001b[0m - \u001b[1mCrawl data from https://www.nhatot.com/https://www.nhatot.com/mua-ban-bat-dong-san?page=63\u001b[0m\n",
      "\u001b[32m2024-10-25 21:35:22.391\u001b[0m | \u001b[1mINFO    \u001b[0m | \u001b[36m__main__\u001b[0m:\u001b[36m<module>\u001b[0m:\u001b[36m5\u001b[0m - \u001b[1mCrawl data from https://www.nhatot.com/https://www.nhatot.com/mua-ban-bat-dong-san?page=64\u001b[0m\n",
      "\u001b[32m2024-10-25 21:35:26.715\u001b[0m | \u001b[1mINFO    \u001b[0m | \u001b[36m__main__\u001b[0m:\u001b[36m<module>\u001b[0m:\u001b[36m5\u001b[0m - \u001b[1mCrawl data from https://www.nhatot.com/https://www.nhatot.com/mua-ban-bat-dong-san?page=65\u001b[0m\n",
      "\u001b[32m2024-10-25 21:35:29.253\u001b[0m | \u001b[1mINFO    \u001b[0m | \u001b[36m__main__\u001b[0m:\u001b[36m<module>\u001b[0m:\u001b[36m5\u001b[0m - \u001b[1mCrawl data from https://www.nhatot.com/https://www.nhatot.com/mua-ban-bat-dong-san?page=66\u001b[0m\n",
      "\u001b[32m2024-10-25 21:35:31.451\u001b[0m | \u001b[1mINFO    \u001b[0m | \u001b[36m__main__\u001b[0m:\u001b[36m<module>\u001b[0m:\u001b[36m5\u001b[0m - \u001b[1mCrawl data from https://www.nhatot.com/https://www.nhatot.com/mua-ban-bat-dong-san?page=67\u001b[0m\n",
      "\u001b[32m2024-10-25 21:35:33.359\u001b[0m | \u001b[1mINFO    \u001b[0m | \u001b[36m__main__\u001b[0m:\u001b[36m<module>\u001b[0m:\u001b[36m5\u001b[0m - \u001b[1mCrawl data from https://www.nhatot.com/https://www.nhatot.com/mua-ban-bat-dong-san?page=68\u001b[0m\n",
      "\u001b[32m2024-10-25 21:35:35.169\u001b[0m | \u001b[1mINFO    \u001b[0m | \u001b[36m__main__\u001b[0m:\u001b[36m<module>\u001b[0m:\u001b[36m5\u001b[0m - \u001b[1mCrawl data from https://www.nhatot.com/https://www.nhatot.com/mua-ban-bat-dong-san?page=69\u001b[0m\n",
      "\u001b[32m2024-10-25 21:35:36.491\u001b[0m | \u001b[1mINFO    \u001b[0m | \u001b[36m__main__\u001b[0m:\u001b[36m<module>\u001b[0m:\u001b[36m5\u001b[0m - \u001b[1mCrawl data from https://www.nhatot.com/https://www.nhatot.com/mua-ban-bat-dong-san?page=70\u001b[0m\n",
      "\u001b[32m2024-10-25 21:35:41.012\u001b[0m | \u001b[1mINFO    \u001b[0m | \u001b[36m__main__\u001b[0m:\u001b[36m<module>\u001b[0m:\u001b[36m5\u001b[0m - \u001b[1mCrawl data from https://www.nhatot.com/https://www.nhatot.com/mua-ban-bat-dong-san?page=71\u001b[0m\n",
      "\u001b[32m2024-10-25 21:35:43.332\u001b[0m | \u001b[1mINFO    \u001b[0m | \u001b[36m__main__\u001b[0m:\u001b[36m<module>\u001b[0m:\u001b[36m5\u001b[0m - \u001b[1mCrawl data from https://www.nhatot.com/https://www.nhatot.com/mua-ban-bat-dong-san?page=72\u001b[0m\n",
      "\u001b[32m2024-10-25 21:35:46.661\u001b[0m | \u001b[1mINFO    \u001b[0m | \u001b[36m__main__\u001b[0m:\u001b[36m<module>\u001b[0m:\u001b[36m5\u001b[0m - \u001b[1mCrawl data from https://www.nhatot.com/https://www.nhatot.com/mua-ban-bat-dong-san?page=73\u001b[0m\n",
      "\u001b[32m2024-10-25 21:35:49.498\u001b[0m | \u001b[1mINFO    \u001b[0m | \u001b[36m__main__\u001b[0m:\u001b[36m<module>\u001b[0m:\u001b[36m5\u001b[0m - \u001b[1mCrawl data from https://www.nhatot.com/https://www.nhatot.com/mua-ban-bat-dong-san?page=74\u001b[0m\n",
      "\u001b[32m2024-10-25 21:35:52.100\u001b[0m | \u001b[1mINFO    \u001b[0m | \u001b[36m__main__\u001b[0m:\u001b[36m<module>\u001b[0m:\u001b[36m5\u001b[0m - \u001b[1mCrawl data from https://www.nhatot.com/https://www.nhatot.com/mua-ban-bat-dong-san?page=75\u001b[0m\n",
      "\u001b[32m2024-10-25 21:35:54.340\u001b[0m | \u001b[1mINFO    \u001b[0m | \u001b[36m__main__\u001b[0m:\u001b[36m<module>\u001b[0m:\u001b[36m5\u001b[0m - \u001b[1mCrawl data from https://www.nhatot.com/https://www.nhatot.com/mua-ban-bat-dong-san?page=76\u001b[0m\n",
      "\u001b[32m2024-10-25 21:36:00.086\u001b[0m | \u001b[1mINFO    \u001b[0m | \u001b[36m__main__\u001b[0m:\u001b[36m<module>\u001b[0m:\u001b[36m5\u001b[0m - \u001b[1mCrawl data from https://www.nhatot.com/https://www.nhatot.com/mua-ban-bat-dong-san?page=77\u001b[0m\n",
      "\u001b[32m2024-10-25 21:36:13.500\u001b[0m | \u001b[1mINFO    \u001b[0m | \u001b[36m__main__\u001b[0m:\u001b[36m<module>\u001b[0m:\u001b[36m5\u001b[0m - \u001b[1mCrawl data from https://www.nhatot.com/https://www.nhatot.com/mua-ban-bat-dong-san?page=78\u001b[0m\n",
      "\u001b[32m2024-10-25 21:36:16.896\u001b[0m | \u001b[1mINFO    \u001b[0m | \u001b[36m__main__\u001b[0m:\u001b[36m<module>\u001b[0m:\u001b[36m5\u001b[0m - \u001b[1mCrawl data from https://www.nhatot.com/https://www.nhatot.com/mua-ban-bat-dong-san?page=79\u001b[0m\n",
      "\u001b[32m2024-10-25 21:36:18.986\u001b[0m | \u001b[1mINFO    \u001b[0m | \u001b[36m__main__\u001b[0m:\u001b[36m<module>\u001b[0m:\u001b[36m5\u001b[0m - \u001b[1mCrawl data from https://www.nhatot.com/https://www.nhatot.com/mua-ban-bat-dong-san?page=80\u001b[0m\n",
      "\u001b[32m2024-10-25 21:36:21.865\u001b[0m | \u001b[1mINFO    \u001b[0m | \u001b[36m__main__\u001b[0m:\u001b[36m<module>\u001b[0m:\u001b[36m5\u001b[0m - \u001b[1mCrawl data from https://www.nhatot.com/https://www.nhatot.com/mua-ban-bat-dong-san?page=81\u001b[0m\n",
      "\u001b[32m2024-10-25 21:36:23.397\u001b[0m | \u001b[1mINFO    \u001b[0m | \u001b[36m__main__\u001b[0m:\u001b[36m<module>\u001b[0m:\u001b[36m5\u001b[0m - \u001b[1mCrawl data from https://www.nhatot.com/https://www.nhatot.com/mua-ban-bat-dong-san?page=82\u001b[0m\n",
      "\u001b[32m2024-10-25 21:36:27.300\u001b[0m | \u001b[1mINFO    \u001b[0m | \u001b[36m__main__\u001b[0m:\u001b[36m<module>\u001b[0m:\u001b[36m5\u001b[0m - \u001b[1mCrawl data from https://www.nhatot.com/https://www.nhatot.com/mua-ban-bat-dong-san?page=83\u001b[0m\n",
      "\u001b[32m2024-10-25 21:36:30.113\u001b[0m | \u001b[1mINFO    \u001b[0m | \u001b[36m__main__\u001b[0m:\u001b[36m<module>\u001b[0m:\u001b[36m5\u001b[0m - \u001b[1mCrawl data from https://www.nhatot.com/https://www.nhatot.com/mua-ban-bat-dong-san?page=84\u001b[0m\n",
      "\u001b[32m2024-10-25 21:36:33.541\u001b[0m | \u001b[1mINFO    \u001b[0m | \u001b[36m__main__\u001b[0m:\u001b[36m<module>\u001b[0m:\u001b[36m5\u001b[0m - \u001b[1mCrawl data from https://www.nhatot.com/https://www.nhatot.com/mua-ban-bat-dong-san?page=85\u001b[0m\n",
      "\u001b[32m2024-10-25 21:36:36.591\u001b[0m | \u001b[1mINFO    \u001b[0m | \u001b[36m__main__\u001b[0m:\u001b[36m<module>\u001b[0m:\u001b[36m5\u001b[0m - \u001b[1mCrawl data from https://www.nhatot.com/https://www.nhatot.com/mua-ban-bat-dong-san?page=86\u001b[0m\n",
      "\u001b[32m2024-10-25 21:36:38.982\u001b[0m | \u001b[1mINFO    \u001b[0m | \u001b[36m__main__\u001b[0m:\u001b[36m<module>\u001b[0m:\u001b[36m5\u001b[0m - \u001b[1mCrawl data from https://www.nhatot.com/https://www.nhatot.com/mua-ban-bat-dong-san?page=87\u001b[0m\n",
      "\u001b[32m2024-10-25 21:36:41.281\u001b[0m | \u001b[1mINFO    \u001b[0m | \u001b[36m__main__\u001b[0m:\u001b[36m<module>\u001b[0m:\u001b[36m5\u001b[0m - \u001b[1mCrawl data from https://www.nhatot.com/https://www.nhatot.com/mua-ban-bat-dong-san?page=88\u001b[0m\n",
      "\u001b[32m2024-10-25 21:36:44.109\u001b[0m | \u001b[1mINFO    \u001b[0m | \u001b[36m__main__\u001b[0m:\u001b[36m<module>\u001b[0m:\u001b[36m5\u001b[0m - \u001b[1mCrawl data from https://www.nhatot.com/https://www.nhatot.com/mua-ban-bat-dong-san?page=89\u001b[0m\n",
      "\u001b[32m2024-10-25 21:36:49.093\u001b[0m | \u001b[1mINFO    \u001b[0m | \u001b[36m__main__\u001b[0m:\u001b[36m<module>\u001b[0m:\u001b[36m5\u001b[0m - \u001b[1mCrawl data from https://www.nhatot.com/https://www.nhatot.com/mua-ban-bat-dong-san?page=90\u001b[0m\n",
      "\u001b[32m2024-10-25 21:36:50.618\u001b[0m | \u001b[1mINFO    \u001b[0m | \u001b[36m__main__\u001b[0m:\u001b[36m<module>\u001b[0m:\u001b[36m5\u001b[0m - \u001b[1mCrawl data from https://www.nhatot.com/https://www.nhatot.com/mua-ban-bat-dong-san?page=91\u001b[0m\n",
      "\u001b[32m2024-10-25 21:36:52.573\u001b[0m | \u001b[1mINFO    \u001b[0m | \u001b[36m__main__\u001b[0m:\u001b[36m<module>\u001b[0m:\u001b[36m5\u001b[0m - \u001b[1mCrawl data from https://www.nhatot.com/https://www.nhatot.com/mua-ban-bat-dong-san?page=92\u001b[0m\n",
      "\u001b[32m2024-10-25 21:36:53.979\u001b[0m | \u001b[1mINFO    \u001b[0m | \u001b[36m__main__\u001b[0m:\u001b[36m<module>\u001b[0m:\u001b[36m5\u001b[0m - \u001b[1mCrawl data from https://www.nhatot.com/https://www.nhatot.com/mua-ban-bat-dong-san?page=93\u001b[0m\n",
      "\u001b[32m2024-10-25 21:36:55.811\u001b[0m | \u001b[1mINFO    \u001b[0m | \u001b[36m__main__\u001b[0m:\u001b[36m<module>\u001b[0m:\u001b[36m5\u001b[0m - \u001b[1mCrawl data from https://www.nhatot.com/https://www.nhatot.com/mua-ban-bat-dong-san?page=94\u001b[0m\n",
      "\u001b[32m2024-10-25 21:36:57.313\u001b[0m | \u001b[1mINFO    \u001b[0m | \u001b[36m__main__\u001b[0m:\u001b[36m<module>\u001b[0m:\u001b[36m5\u001b[0m - \u001b[1mCrawl data from https://www.nhatot.com/https://www.nhatot.com/mua-ban-bat-dong-san?page=95\u001b[0m\n",
      "\u001b[32m2024-10-25 21:36:58.880\u001b[0m | \u001b[1mINFO    \u001b[0m | \u001b[36m__main__\u001b[0m:\u001b[36m<module>\u001b[0m:\u001b[36m5\u001b[0m - \u001b[1mCrawl data from https://www.nhatot.com/https://www.nhatot.com/mua-ban-bat-dong-san?page=96\u001b[0m\n",
      "\u001b[32m2024-10-25 21:37:00.602\u001b[0m | \u001b[1mINFO    \u001b[0m | \u001b[36m__main__\u001b[0m:\u001b[36m<module>\u001b[0m:\u001b[36m5\u001b[0m - \u001b[1mCrawl data from https://www.nhatot.com/https://www.nhatot.com/mua-ban-bat-dong-san?page=97\u001b[0m\n",
      "\u001b[32m2024-10-25 21:37:03.432\u001b[0m | \u001b[1mINFO    \u001b[0m | \u001b[36m__main__\u001b[0m:\u001b[36m<module>\u001b[0m:\u001b[36m5\u001b[0m - \u001b[1mCrawl data from https://www.nhatot.com/https://www.nhatot.com/mua-ban-bat-dong-san?page=98\u001b[0m\n",
      "\u001b[32m2024-10-25 21:37:05.438\u001b[0m | \u001b[1mINFO    \u001b[0m | \u001b[36m__main__\u001b[0m:\u001b[36m<module>\u001b[0m:\u001b[36m5\u001b[0m - \u001b[1mCrawl data from https://www.nhatot.com/https://www.nhatot.com/mua-ban-bat-dong-san?page=99\u001b[0m\n",
      "\u001b[32m2024-10-25 21:37:07.331\u001b[0m | \u001b[1mINFO    \u001b[0m | \u001b[36m__main__\u001b[0m:\u001b[36m<module>\u001b[0m:\u001b[36m5\u001b[0m - \u001b[1mCrawl data from https://www.nhatot.com/https://www.nhatot.com/mua-ban-bat-dong-san?page=100\u001b[0m\n"
     ]
    }
   ],
   "source": [
    "result = []\n",
    "for page in range(page_from, page_to + 1, 1):\n",
    "    try:\n",
    "        url = f\"https://www.nhatot.com/https://www.nhatot.com/mua-ban-bat-dong-san?page={page}\"\n",
    "        logger.info(f\"Crawl data from {url}\")\n",
    "        data = crawler.crawl(url)\n",
    "        result.extend(data)\n",
    "    except Exception as e:\n",
    "        logger.warning(f\"Failed to crawl {url}, reason {e}\")"
   ]
  },
  {
   "cell_type": "code",
   "execution_count": 7,
   "metadata": {},
   "outputs": [
    {
     "name": "stdout",
     "output_type": "stream",
     "text": [
      "\u001b[32m2024-10-25 21:37:21.453\u001b[0m | \u001b[1mINFO    \u001b[0m | \u001b[36m__main__\u001b[0m:\u001b[36m<module>\u001b[0m:\u001b[36m1\u001b[0m - \u001b[1m========= Done ========\u001b[0m\n"
     ]
    }
   ],
   "source": [
    "logger.info(\"========= Done ========\")"
   ]
  },
  {
   "cell_type": "code",
   "execution_count": 8,
   "metadata": {},
   "outputs": [
    {
     "data": {
      "text/html": [
       "<div>\n",
       "<style scoped>\n",
       "    .dataframe tbody tr th:only-of-type {\n",
       "        vertical-align: middle;\n",
       "    }\n",
       "\n",
       "    .dataframe tbody tr th {\n",
       "        vertical-align: top;\n",
       "    }\n",
       "\n",
       "    .dataframe thead th {\n",
       "        text-align: right;\n",
       "    }\n",
       "</style>\n",
       "<table border=\"1\" class=\"dataframe\">\n",
       "  <thead>\n",
       "    <tr style=\"text-align: right;\">\n",
       "      <th></th>\n",
       "      <th>post_id</th>\n",
       "      <th>post_url</th>\n",
       "    </tr>\n",
       "  </thead>\n",
       "  <tbody>\n",
       "    <tr>\n",
       "      <th>0</th>\n",
       "      <td>120476119</td>\n",
       "      <td>https://www.nhatot.com/mua-ban-dat-huyen-an-du...</td>\n",
       "    </tr>\n",
       "    <tr>\n",
       "      <th>1</th>\n",
       "      <td>120396140</td>\n",
       "      <td>https://www.nhatot.com/mua-ban-nha-dat-quan-th...</td>\n",
       "    </tr>\n",
       "    <tr>\n",
       "      <th>2</th>\n",
       "      <td>118794723</td>\n",
       "      <td>https://www.nhatot.com/mua-ban-dat-huyen-go-da...</td>\n",
       "    </tr>\n",
       "  </tbody>\n",
       "</table>\n",
       "</div>"
      ],
      "text/plain": [
       "     post_id                                           post_url\n",
       "0  120476119  https://www.nhatot.com/mua-ban-dat-huyen-an-du...\n",
       "1  120396140  https://www.nhatot.com/mua-ban-nha-dat-quan-th...\n",
       "2  118794723  https://www.nhatot.com/mua-ban-dat-huyen-go-da..."
      ]
     },
     "execution_count": 8,
     "metadata": {},
     "output_type": "execute_result"
    }
   ],
   "source": [
    "df = []\n",
    "for x in result:\n",
    "    df.append({\n",
    "        \"post_id\": x.post_id,\n",
    "        \"post_url\": x.post_url\n",
    "    })\n",
    "df = pd.DataFrame(df)\n",
    "df.head(3)"
   ]
  },
  {
   "cell_type": "code",
   "execution_count": 9,
   "metadata": {},
   "outputs": [],
   "source": [
    "df.to_csv(app_config.DATA_PATH.joinpath(\"list_mua_ban.csv\"))"
   ]
  },
  {
   "cell_type": "code",
   "execution_count": null,
   "metadata": {},
   "outputs": [],
   "source": []
  }
 ],
 "metadata": {
  "kernelspec": {
   "display_name": "housing-market-dashboard-pvUQCj6N-py3.12",
   "language": "python",
   "name": "python3"
  },
  "language_info": {
   "codemirror_mode": {
    "name": "ipython",
    "version": 3
   },
   "file_extension": ".py",
   "mimetype": "text/x-python",
   "name": "python",
   "nbconvert_exporter": "python",
   "pygments_lexer": "ipython3",
   "version": "3.12.6"
  }
 },
 "nbformat": 4,
 "nbformat_minor": 2
}
